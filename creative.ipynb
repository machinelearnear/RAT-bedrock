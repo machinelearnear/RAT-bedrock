{
 "cells": [
  {
   "cell_type": "markdown",
   "metadata": {
    "id": "7TX0mtitYYN_"
   },
   "source": [
    "# Retrieval-augmented Thoughts"
   ]
  },
  {
   "cell_type": "code",
   "execution_count": 1,
   "metadata": {
    "tags": []
   },
   "outputs": [
    {
     "name": "stdout",
     "output_type": "stream",
     "text": [
      "Note: you may need to restart the kernel to use updated packages.\n"
     ]
    }
   ],
   "source": [
    "# source: https://medium.com/@greyboi/ddgsearch-search-duckduckgo-scrape-the-results-in-python-18f5265f1aa6\n",
    "%pip install --upgrade --quiet duckduckgo-search"
   ]
  },
  {
   "cell_type": "code",
   "execution_count": 2,
   "metadata": {
    "tags": []
   },
   "outputs": [],
   "source": [
    "# %%capture\n",
    "# !pip install boto3 --upgrade"
   ]
  },
  {
   "cell_type": "code",
   "execution_count": 3,
   "metadata": {
    "tags": []
   },
   "outputs": [],
   "source": [
    "import boto3\n",
    "import os\n",
    "import json\n",
    "import re\n",
    "\n",
    "bedrock = boto3.client(service_name='bedrock-runtime')"
   ]
  },
  {
   "cell_type": "code",
   "execution_count": 4,
   "metadata": {
    "tags": []
   },
   "outputs": [],
   "source": [
    "# model params\n",
    "max_tokens = 4096\n",
    "temperature = 0\n",
    "top_k = 250 # optional\n",
    "top_p = 0.999 # optional\n",
    "\n",
    "anthropic_version = 'bedrock-2023-05-31'\n",
    "accept = 'application/json'\n",
    "contentType = 'application/json'\n",
    "\n",
    "# set the Claude 3  model ID in Bedrock\n",
    "model_id = 'anthropic.claude-3-sonnet-20240229-v1:0'"
   ]
  },
  {
   "cell_type": "code",
   "execution_count": 50,
   "metadata": {
    "id": "V8ox9jk5Y_ZC",
    "tags": []
   },
   "outputs": [],
   "source": [
    "# Basic Tool Functions\n",
    "import os\n",
    "import json\n",
    "\n",
    "from duckduckgo_search import DDGS\n",
    "def get_search(query:str=\"\", k:int=3): # get the top-k resources with DuckDuckGo\n",
    "    return DDGS().text(query.replace('\"',''), max_results=k)\n",
    "\n",
    "from langchain_community.document_transformers import Html2TextTransformer\n",
    "from langchain_community.document_loaders import AsyncHtmlLoader\n",
    "def get_page_content(href:str):\n",
    "    loader = AsyncHtmlLoader([href])\n",
    "    docs = loader.load()\n",
    "    html2text = Html2TextTransformer()\n",
    "    docs_transformed = html2text.transform_documents(docs)\n",
    "    if len(docs_transformed) > 0:\n",
    "        return docs_transformed[0].page_content\n",
    "    else:\n",
    "        return None\n",
    "\n",
    "import tiktoken\n",
    "def num_tokens_from_string(string: str, encoding_name: str = \"cl100k_base\") -> int:\n",
    "    \"\"\"Returns the number of tokens in a text string.\"\"\"\n",
    "    encoding = tiktoken.get_encoding(encoding_name)\n",
    "    num_tokens = len(encoding.encode(string))\n",
    "    return num_tokens\n",
    "\n",
    "def chunk_text_by_sentence(text, chunk_size=2048):\n",
    "    \"\"\"Chunk the $text into sentences with less than 2k tokens.\"\"\"\n",
    "    sentences = text.split('. ')\n",
    "    chunked_text = []\n",
    "    curr_chunk = []\n",
    "    # 逐句添加文本片段，确保每个段落都小于2k个token\n",
    "    for sentence in sentences:\n",
    "        if num_tokens_from_string(\". \".join(curr_chunk)) + num_tokens_from_string(sentence) + 2 <= chunk_size:\n",
    "            curr_chunk.append(sentence)\n",
    "        else:\n",
    "            chunked_text.append(\". \".join(curr_chunk))\n",
    "            curr_chunk = [sentence]\n",
    "    # 添加最后一个片段\n",
    "    if curr_chunk:\n",
    "        chunked_text.append(\". \".join(curr_chunk))\n",
    "    return chunked_text[0]\n",
    "\n",
    "def chunk_text_front(text, chunk_size = 2048):\n",
    "    '''\n",
    "    get the first `trunk_size` token of text\n",
    "    '''\n",
    "    chunked_text = \"\"\n",
    "    tokens = num_tokens_from_string(text)\n",
    "    if tokens < chunk_size:\n",
    "        return text\n",
    "    else:\n",
    "        ratio = float(chunk_size) / tokens\n",
    "        char_num = int(len(text) * ratio)\n",
    "        return text[:char_num]\n",
    "\n",
    "def chunk_texts(text, chunk_size = 2048):\n",
    "    '''\n",
    "    trunk the text into n parts, return a list of text\n",
    "    [text, text, text]\n",
    "    '''\n",
    "    tokens = num_tokens_from_string(text)\n",
    "    if tokens < chunk_size:\n",
    "        return [text]\n",
    "    else:\n",
    "        texts = []\n",
    "        n = int(tokens/chunk_size) + 1\n",
    "        # 计算每个部分的长度\n",
    "        part_length = len(text) // n\n",
    "        # 如果不能整除，则最后一个部分会包含额外的字符\n",
    "        extra = len(text) % n\n",
    "        parts = []\n",
    "        start = 0\n",
    "\n",
    "        for i in range(n):\n",
    "            # 对于前extra个部分，每个部分多分配一个字符\n",
    "            end = start + part_length + (1 if i < extra else 0)\n",
    "            parts.append(text[start:end])\n",
    "            start = end\n",
    "        return parts"
   ]
  },
  {
   "cell_type": "code",
   "execution_count": 74,
   "metadata": {
    "id": "4HBQ5onEn_m-"
   },
   "outputs": [],
   "source": [
    "# RAT Pipeline\n",
    "\n",
    "from datetime import datetime\n",
    "anthropic_system_prompt = f'''\n",
    "You are an AI assistant called Claude, created by Anthropic. The current date is {datetime.now().strftime('%Y-%m-%d')}.\n",
    "Claude's knowledge base was last updated on August 2023. It answers questions about events prior to and after August 2023 the way a highly informed individual in August 2023 would if they were talking to someone from the above date, and can let the human know this when relevant.\n",
    "It should give concise responses to very simple questions, but provide thorough responses to more complex and open-ended questions.\n",
    "If it is asked to assist with tasks involving the expression of views held by a significant number of people, Claude provides assistance with the task even if it personally disagrees with the views being expressed, but follows this with a discussion of broader perspectives.\n",
    "Claude doesn't engage in stereotyping, including the negative stereotyping of majority groups.\n",
    "If asked about controversial topics, Claude tries to provide careful thoughts and objective information without downplaying its harmful content or implying that there are reasonable perspectives on both sides.\n",
    "It is happy to help with writing, analysis, question answering, math, coding, and all sorts of other tasks. It uses markdown for coding.\n",
    "It does not mention this information about itself unless the information is directly pertinent to the human's query.\n",
    "'''\n",
    "\n",
    "def get_draft(question):\n",
    "    # Getting the draft answer\n",
    "    draft_prompt = '''\n",
    "IMPORTANT:\n",
    "Try to answer this question/instruction with step-by-step thoughts and make the answer more structured.\n",
    "Use `\\n\\n` to split the answer into several paragraphs.\n",
    "Just respond to the instruction directly. DO NOT add additional explanations or text in the answer unless you are asked to.\n",
    "'''\n",
    "    messages=[{\"role\": \"user\", \"content\": f\"{question}\" + draft_prompt}]\n",
    "\n",
    "    body = json.dumps(\n",
    "        {\n",
    "            \"max_tokens\": max_tokens,\n",
    "            \"temperature\": temperature,\n",
    "            \"top_k\": top_k,\n",
    "            \"top_p\": top_p,\n",
    "            \"anthropic_version\": anthropic_version,\n",
    "            \"system\": anthropic_system_prompt,\n",
    "            \"messages\":  messages,\n",
    "        })\n",
    "    \n",
    "    response = bedrock.invoke_model(body=body, modelId=model_id, accept=accept, contentType=contentType)\n",
    "    response_body = json.loads(response.get('body').read())\n",
    "    return response_body['content'][0]['text']\n",
    "\n",
    "def split_draft(draft, split_char = '\\n\\n'):\n",
    "    # 将draft切分为多个段落\n",
    "    # split_char: '\\n\\n'\n",
    "    draft_paragraphs = draft.split(split_char)\n",
    "    # print(f\"The draft answer has {len(draft_paragraphs)}\")\n",
    "    return draft_paragraphs\n",
    "\n",
    "def get_query(question, answer):\n",
    "    query_prompt = '''\n",
    "I want to verify the content correctness of the given question, especially the last sentences.\n",
    "Please summarize the content with the corresponding question.\n",
    "This summarization will be used as a query to given to a search engine.\n",
    "The query should be short but needs to be specific to make sure the search engine can find related knowledge or web pages.\n",
    "You can also use search syntax to make the query short and clear enough for the search engine to find relevant language data.\n",
    "Try to make the query as relevant as possible to the last few sentences in the content.\n",
    "**IMPORTANT**\n",
    "Just output the query directly. DO NOT add additional explanations or text in the answer unless you are asked to.\n",
    "'''\n",
    "    messages=[{\"role\": \"user\",\"content\": f\"##Question: {question}\\n\\n##Content: {answer}\\n\\n##Instruction: {query_prompt}\"}]\n",
    "\n",
    "    body = json.dumps(\n",
    "        {\n",
    "            \"max_tokens\": max_tokens,\n",
    "            \"temperature\": temperature,\n",
    "            \"top_k\": top_k,\n",
    "            \"top_p\": top_p,\n",
    "            \"anthropic_version\": anthropic_version,\n",
    "            \"system\": anthropic_system_prompt,\n",
    "            \"messages\":  messages,\n",
    "        })\n",
    "\n",
    "    response = bedrock.invoke_model(body=body, modelId=model_id, accept=accept, contentType=contentType)\n",
    "    response_body = json.loads(response.get('body').read())\n",
    "    return response_body['content'][0]['text']\n",
    "\n",
    "\n",
    "def get_content(query):\n",
    "    res = get_search(query, 1)\n",
    "    if not res:\n",
    "        print(\">>> No good search result was found\")\n",
    "        return None\n",
    "    search_results = res[0]\n",
    "    href = search_results['href'] # title, snippet\n",
    "    res = get_page_content(href)\n",
    "    if not res:\n",
    "        print(f\">>> No content was found in {href}\")\n",
    "        return None\n",
    "    retrieved_text = res\n",
    "    trunked_texts = chunk_texts(retrieved_text, 1500)\n",
    "    trunked_texts = [trunked_text.replace('\\n', \" \") for trunked_text in trunked_texts]\n",
    "    if trunked_texts: print(f\"Funcióno bien para query: {query}\")\n",
    "    return trunked_texts\n",
    "\n",
    "def get_revise_answer(question, answer, content):\n",
    "    revise_prompt = '''\n",
    "I want to revise the answer according to retrieved related text of the question in WIKI pages.\n",
    "You need to check whether the answer is correct.\n",
    "If you find some errors in the answer, revise the answer to make it better.\n",
    "If you find some necessary details are ignored, add it to make the answer more plausible according to the related text.\n",
    "If you find the answer is right and do not need to add more details, just output the original answer directly.\n",
    "**IMPORTANT**\n",
    "Try to keep the structure (multiple paragraphs with its subtitles) in the revised answer and make it more structured to improve understanding.\n",
    "Split the paragraphs with `\\n\\n` characters.\n",
    "Just output the revised answer directly. DO NOT add additional explanations or text in the revised answer unless you are asked to.\n",
    "'''\n",
    "    messages=[{\"role\": \"user\", \"content\": f\"##Existing Text in Wiki Web: {content}\\n\\n##Question: {question}\\n\\n##Answer: {answer}\\n\\n##Instruction: {revise_prompt}\"}]\n",
    "\n",
    "    body = json.dumps(\n",
    "        {\n",
    "            \"max_tokens\": max_tokens,\n",
    "            \"temperature\": temperature,\n",
    "            \"top_k\": top_k,\n",
    "            \"top_p\": top_p,\n",
    "            \"anthropic_version\": anthropic_version,\n",
    "            \"system\": anthropic_system_prompt,\n",
    "            \"messages\":  messages,\n",
    "        })\n",
    "\n",
    "    response = bedrock.invoke_model(body=body, modelId=model_id, accept=accept, contentType=contentType)\n",
    "    response_body = json.loads(response.get('body').read())\n",
    "    return response_body['content'][0]['text']\n",
    "\n",
    "def get_reflect_answer(question, answer):\n",
    "    reflect_prompt = '''\n",
    "Give a title for the answer of the question.\n",
    "And add a subtitle to each paragraph in the answer and output the final answer using markdown format. \n",
    "This will make the answer to this question look more structured for better understanding.\n",
    "**IMPORTANT**\n",
    "Try to keep the structure (multiple paragraphs with its subtitles) in the response and make it more structured for understanding.\n",
    "Split the paragraphs with \\n\\n characters.\n",
    "Just output the revised answer directly. DO NOT add additional explanations or text in the revised answer unless you are asked to.\n",
    "'''\n",
    "    messages=[{\"role\": \"user\", \"content\": f\"##Question:\\n{question}\\n\\n##Answer:\\n{answer}\\n\\n##Instruction:\\n{reflect_prompt}\"}]\n",
    "\n",
    "    body = json.dumps(\n",
    "        {\n",
    "            \"max_tokens\": max_tokens,\n",
    "            \"temperature\": temperature,\n",
    "            \"top_k\": top_k,\n",
    "            \"top_p\": top_p,\n",
    "            \"anthropic_version\": anthropic_version,\n",
    "            \"system\": anthropic_system_prompt,\n",
    "            \"messages\":  messages,\n",
    "        })\n",
    "\n",
    "    response = bedrock.invoke_model(body=body, modelId=model_id, accept=accept, contentType=contentType)\n",
    "    response_body = json.loads(response.get('body').read())\n",
    "    return response_body['content'][0]['text']"
   ]
  },
  {
   "cell_type": "code",
   "execution_count": 52,
   "metadata": {
    "tags": []
   },
   "outputs": [],
   "source": [
    "query=\"ricardo fort empresario negocios inmobiliarios productos belleza\""
   ]
  },
  {
   "cell_type": "code",
   "execution_count": 75,
   "metadata": {
    "id": "yW1yp-BQQUxp"
   },
   "outputs": [],
   "source": [
    "def get_query_wrapper(q, question, answer):\n",
    "    result = get_query(question, answer)\n",
    "    q.put(result)  # pone el resultado en la cola\n",
    "\n",
    "def get_content_wrapper(q, query):\n",
    "    result = get_content(query)\n",
    "    print(result)\n",
    "    q.put(result)  # pone el resultado en la cola\n",
    "\n",
    "def get_revise_answer_wrapper(q, question, answer, content):\n",
    "    result = get_revise_answer(question, answer, content)\n",
    "    q.put(result)\n",
    "\n",
    "def get_reflect_answer_wrapper(q, question, answer):\n",
    "    result = get_reflect_answer(question, answer)\n",
    "    q.put(result)\n",
    "\n",
    "from multiprocessing import Process, Queue\n",
    "from datetime import datetime\n",
    "\n",
    "def run_with_timeout(func, timeout, *args, **kwargs):\n",
    "    q = Queue()  # crea un objeto Queue para la comunicación entre procesos\n",
    "    p = Process(target=func, args=(q, *args), kwargs=kwargs)\n",
    "    p.start()\n",
    "    p.join(timeout)\n",
    "    if p.is_alive():\n",
    "        # Log con timestamp más claro y explicación del timeout\n",
    "        print(f\"{datetime.now()} - [INFO] Timeout: La función {func.__name__} excedió el tiempo de {timeout}s.\")\n",
    "        p.terminate()\n",
    "        p.join()\n",
    "        return {'error': 'timeout', 'detail': f'Function {func.__name__} exceeded {timeout} seconds.'}\n",
    "    else:\n",
    "        # Log de éxito\n",
    "        print(f\"{datetime.now()} - [INFO] La función {func.__name__} completó su ejecución exitosamente.\")\n",
    "        if not q.empty():\n",
    "            return q.get()\n",
    "        else:\n",
    "            # Manejo en caso de que la cola esté vacía (indicaría otro tipo de problema)\n",
    "            return {'error': 'empty_queue', 'detail': 'No result was returned from the process.'}"
   ]
  },
  {
   "cell_type": "code",
   "execution_count": 69,
   "metadata": {},
   "outputs": [],
   "source": [
    "from difflib import unified_diff\n",
    "from IPython.display import display, HTML\n",
    "\n",
    "def generate_diff_html(text1, text2):\n",
    "    diff = unified_diff(text1.splitlines(keepends=True),\n",
    "                        text2.splitlines(keepends=True),\n",
    "                        fromfile='text1', tofile='text2')\n",
    "\n",
    "    diff_html = \"\"\n",
    "    for line in diff:\n",
    "        if line.startswith('+'):\n",
    "            diff_html += f\"<div style='color:green;'>{line.rstrip()}</div>\"\n",
    "        elif line.startswith('-'):\n",
    "            diff_html += f\"<div style='color:red;'>{line.rstrip()}</div>\"\n",
    "        elif line.startswith('@'):\n",
    "            diff_html += f\"<div style='color:blue;'>{line.rstrip()}</div>\"\n",
    "        else:\n",
    "            diff_html += f\"{line.rstrip()}<br>\"\n",
    "    return diff_html"
   ]
  },
  {
   "cell_type": "code",
   "execution_count": 88,
   "metadata": {
    "id": "jE3Y78zfoLRc"
   },
   "outputs": [],
   "source": [
    "# RAT Function\n",
    "newline_char = '\\n'\n",
    "\n",
    "def rat(question):\n",
    "    print(f\"{datetime.now()} [INFO] Te estoy armando un borrador con Claude3 ...\")\n",
    "    draft = get_draft(question)\n",
    "    print(f\"--------------------- Borrador ---------------------\")\n",
    "    print(draft)\n",
    "    print(f\"---------------------  Fin  ------------------------\")\n",
    "\n",
    "    print(f\"{datetime.now()} [INFO] Procesando el borrador ...\")\n",
    "    draft_paragraphs = split_draft(draft)\n",
    "    print(f\"{datetime.now()} [INFO] Te lo dividí en {len(draft_paragraphs)} partes.\")\n",
    "    answer = \"\"\n",
    "    for i, p in enumerate(draft_paragraphs):\n",
    "        print(str(\"-\")*80)\n",
    "        print(f\"{datetime.now()} [INFO] Vamos a revisar la parte [{i+1}/{len(draft_paragraphs)}] ...\")\n",
    "        answer = answer + '\\n\\n' + p\n",
    "        print(f\"[{i}/{len(draft_paragraphs)}] Respuesta original:\\n{answer.replace(newline_char, ' ')}\")\n",
    "\n",
    "        # query = get_query(question, answer)\n",
    "        print(f\"{datetime.now()} [INFO] Generamos una 'query` que vamos a usar para buscar después ...\")\n",
    "        res = run_with_timeout(get_query_wrapper, 30, question, answer)\n",
    "        if not res:\n",
    "            print(f\"{datetime.now()} [INFO] Hay un timeout, vamos a saltearlo ...\")\n",
    "            continue\n",
    "        else:\n",
    "            query = res\n",
    "        print(f\">>> {i}/{len(draft_paragraphs)} Query: {query.replace(newline_char, ' ')}\")\n",
    "\n",
    "        print(f\"{datetime.now()} [INFO] Arrancamos a crawlear las páginas ...\")\n",
    "        # content = get_content(query)\n",
    "        res = run_with_timeout(get_content_wrapper, 30, query)\n",
    "        if not res:\n",
    "            print(f\"{datetime.now()} [INFO] Hay un timeout, vamos a saltearlo ...\")\n",
    "            continue\n",
    "        else:\n",
    "            content = res\n",
    "\n",
    "        LIMIT = 2\n",
    "        for j, c in enumerate(content):\n",
    "            if  j >= LIMIT: # limit large number of network pages\n",
    "                break\n",
    "            print(f\"{datetime.now()} [INFO] Revisamos las respuestas contra las páginas ...[{j}/{min(len(content),LIMIT)}]\")\n",
    "            # answer = get_revise_answer(question, answer, c)\n",
    "            res = run_with_timeout(get_revise_answer_wrapper, 30, question, answer, c)\n",
    "            if not res:\n",
    "                print(f\"{datetime.now()} [INFO] Hay un timeout, vamos a saltearlo ...\")\n",
    "                continue\n",
    "            else:\n",
    "                diff_html = generate_diff_html(answer, res)\n",
    "                display(HTML(diff_html))\n",
    "                answer = res\n",
    "            print(f\"{datetime.now()} [INFO] Respuesta revisada: [{j}/{min(len(content),3)}]\")\n",
    "        print(f\"[{i}/{len(draft_paragraphs)}] RESPUESTA REVISADA:\\n {answer.replace(newline_char, ' ')}\")\n",
    "    res = run_with_timeout(get_reflect_answer_wrapper, 30, question, answer)\n",
    "    if not res:\n",
    "        print(f\"{datetime.now()} [INFO] Hay un timeout, vamos a saltearlo ...\")\n",
    "    else:\n",
    "        answer = res\n",
    "    return draft, answer"
   ]
  },
  {
   "cell_type": "code",
   "execution_count": null,
   "metadata": {
    "colab": {
     "base_uri": "https://localhost:8080/"
    },
    "id": "vr7TsTHUes7k",
    "outputId": "41bff12a-c2d1-45b0-d15f-eccdfe572b7e"
   },
   "outputs": [
    {
     "name": "stdout",
     "output_type": "stream",
     "text": [
      "2024-04-11 17:44:24.659440 [INFO] Te estoy armando un borrador con Claude3 ...\n",
      "--------------------- Borrador ---------------------\n",
      "Aquí están mis pensamientos paso a paso sobre la vida de Ricardo Fort:\n",
      "\n",
      "`Ricardo Fort fue un empresario, productor de televisión y celebridad argentina muy conocida. Nació en 1968 en Buenos Aires, Argentina.\n",
      "\n",
      "Fort se hizo famoso por su participación en varios reality shows y programas de televisión, donde mostraba su extravagante estilo de vida y personalidad excéntrica. Fue conocido por su amor por las cirugías plásticas y su obsesión por mantener una apariencia joven.\n",
      "\n",
      "A principios de la década de 2000, Fort fundó su propia productora de televisión y produjo varios programas exitosos. También incursionó en los negocios inmobiliarios y la venta de productos de belleza.\n",
      "\n",
      "Lamentablemente, Ricardo Fort falleció en 2013 a la edad de 45 años debido a una insuficiencia cardíaca y otras complicaciones de salud. Dejó atrás a sus dos hijos gemelos y un legado como una de las figuras más polémicas y excéntricas de la televisión argentina.`\n",
      "---------------------  Fin  ------------------------\n",
      "2024-04-11 17:44:33.837852 [INFO] Procesando el borrador ...\n",
      "2024-04-11 17:44:33.837880 [INFO] Te lo dividí en 5 partes.\n",
      "--------------------------------------------------------------------------------\n",
      "2024-04-11 17:44:33.837897 [INFO] Vamos a revisar la parte [1/5] ...\n",
      "[0/5] Respuesta original:\n",
      "  Aquí están mis pensamientos paso a paso sobre la vida de Ricardo Fort:\n",
      "2024-04-11 17:44:33.837913 [INFO] Generamos una 'query` que vamos a usar para buscar después ...\n",
      "2024-04-11 17:44:37.000718 - [INFO] La función get_query_wrapper completó su ejecución exitosamente.\n",
      ">>> 0/5 Query: \"Ricardo Fort\" \"vida\" \"controversias\"\n",
      "2024-04-11 17:44:37.001748 [INFO] Arrancamos a crawlear las páginas ...\n",
      "2024-04-11 17:45:07.031320 - [INFO] Timeout: La función get_content_wrapper excedió el tiempo de 30s.\n",
      "2024-04-11 17:45:07.035918 [INFO] Revisamos las respuestas contra las páginas ...[0/2]\n",
      "2024-04-11 17:45:17.374293 - [INFO] La función get_revise_answer_wrapper completó su ejecución exitosamente.\n"
     ]
    },
    {
     "data": {
      "text/html": [
       "<div style='color:red;'>--- text1</div><div style='color:green;'>+++ text2</div><div style='color:blue;'>@@ -1,3 +1,19 @@</div><div style='color:green;'>+Biografía</div><br><div style='color:green;'>+Ricardo Fort nació el 23 de noviembre de 1968 en Venado Tuerto, provincia de Santa Fe, Argentina. Fue un empresario, productor de televisión y celebridad mediática argentina.</div><br><div style='color:red;'>-Aquí están mis pensamientos paso a paso sobre la vida de Ricardo Fort:</div><div style='color:green;'>+Inicios y carrera empresarial</div><div style='color:green;'>+</div><div style='color:green;'>+Fort se inició en el mundo de los negocios a temprana edad, trabajando en la empresa familiar dedicada a la venta de artículos de limpieza. Posteriormente, se mudó a Buenos Aires y fundó su propia empresa de limpieza llamada \"Ricardo Fort S.A.\", la cual se convirtió en un éxito comercial.</div><div style='color:green;'>+</div><div style='color:green;'>+Fama mediática</div><div style='color:green;'>+</div><div style='color:green;'>+A principios de la década de 2000, Fort comenzó a aparecer en programas de televisión, donde se destacó por su personalidad extravagante y su estilo de vida ostentoso. Su fama creció rápidamente, convirtiéndose en un personaje polémico y controversial.</div><div style='color:green;'>+</div><div style='color:green;'>+Vida personal</div><div style='color:green;'>+</div><div style='color:green;'>+Fort se casó en dos ocasiones, primero con Gustavo Martínez y luego con Marisa Bello. Tuvo dos hijos, Felipito y Martita, fruto de su relación con Marisa Bello. Su vida personal estuvo marcada por la polémica y los escándalos mediáticos.</div><div style='color:green;'>+</div><div style='color:green;'>+Fallecimiento</div><div style='color:green;'>+</div><div style='color:green;'>+Ricardo Fort falleció el 25 de noviembre de 2013 a los 45 años de edad, debido a una complicación derivada de una intervención quirúrgica. Su muerte conmocionó al mundo del espectáculo argentino y generó una gran cobertura mediática.</div>"
      ],
      "text/plain": [
       "<IPython.core.display.HTML object>"
      ]
     },
     "metadata": {},
     "output_type": "display_data"
    },
    {
     "name": "stdout",
     "output_type": "stream",
     "text": [
      "2024-04-11 17:45:17.378051 [INFO] Respuesta revisada: [0/2]\n",
      "2024-04-11 17:45:17.378108 [INFO] Revisamos las respuestas contra las páginas ...[1/2]\n",
      "2024-04-11 17:45:25.580455 - [INFO] La función get_revise_answer_wrapper completó su ejecución exitosamente.\n"
     ]
    },
    {
     "data": {
      "text/html": [
       "<div style='color:red;'>--- text1</div><div style='color:green;'>+++ text2</div><div style='color:blue;'>@@ -1,19 +1,17 @@</div> Biografía<br><br><div style='color:red;'>-Ricardo Fort nació el 23 de noviembre de 1968 en Venado Tuerto, provincia de Santa Fe, Argentina. Fue un empresario, productor de televisión y celebridad mediática argentina.</div><div style='color:green;'>+Inicios y primeros años</div><br><div style='color:red;'>-Inicios y carrera empresarial</div><div style='color:green;'>+Ricardo Fort nació el 23 de noviembre de 1968 en Venado Tuerto, provincia de Santa Fe, Argentina. Desde muy joven, se involucró en los negocios familiares dedicados a la venta de artículos de limpieza.</div><br><div style='color:red;'>-Fort se inició en el mundo de los negocios a temprana edad, trabajando en la empresa familiar dedicada a la venta de artículos de limpieza. Posteriormente, se mudó a Buenos Aires y fundó su propia empresa de limpieza llamada \"Ricardo Fort S.A.\", la cual se convirtió en un éxito comercial.</div><div style='color:green;'>+Carrera empresarial y fama mediática</div><br><div style='color:red;'>-Fama mediática</div><div style='color:green;'>+En la década de 1990, Fort se mudó a Buenos Aires y fundó su propia empresa de limpieza llamada \"Ricardo Fort S.A.\", la cual se convirtió en un éxito comercial. A principios de la década de 2000, comenzó a aparecer en programas de televisión, donde se destacó por su personalidad extravagante y su estilo de vida ostentoso. Su fama creció rápidamente, convirtiéndose en un personaje polémico y controversial en el mundo del espectáculo argentino.</div><br><div style='color:red;'>-A principios de la década de 2000, Fort comenzó a aparecer en programas de televisión, donde se destacó por su personalidad extravagante y su estilo de vida ostentoso. Su fama creció rápidamente, convirtiéndose en un personaje polémico y controversial.</div><div style='color:red;'>-</div><div style='color:red;'>-Vida personal</div><div style='color:green;'>+Vida personal y familia</div><br> Fort se casó en dos ocasiones, primero con Gustavo Martínez y luego con Marisa Bello. Tuvo dos hijos, Felipito y Martita, fruto de su relación con Marisa Bello. Su vida personal estuvo marcada por la polémica y los escándalos mediáticos.<br><br> Fallecimiento<br><br><div style='color:red;'>-Ricardo Fort falleció el 25 de noviembre de 2013 a los 45 años de edad, debido a una complicación derivada de una intervención quirúrgica. Su muerte conmocionó al mundo del espectáculo argentino y generó una gran cobertura mediática.</div><div style='color:green;'>+Lamentablemente, Ricardo Fort falleció el 25 de noviembre de 2013 a los 45 años de edad, debido a una complicación derivada de una intervención quirúrgica. Su muerte conmocionó al mundo del espectáculo argentino y generó una gran cobertura mediática.</div>"
      ],
      "text/plain": [
       "<IPython.core.display.HTML object>"
      ]
     },
     "metadata": {},
     "output_type": "display_data"
    },
    {
     "name": "stdout",
     "output_type": "stream",
     "text": [
      "2024-04-11 17:45:25.583738 [INFO] Respuesta revisada: [1/2]\n",
      "[0/5] RESPUESTA REVISADA:\n",
      " Biografía  Inicios y primeros años  Ricardo Fort nació el 23 de noviembre de 1968 en Venado Tuerto, provincia de Santa Fe, Argentina. Desde muy joven, se involucró en los negocios familiares dedicados a la venta de artículos de limpieza.  Carrera empresarial y fama mediática  En la década de 1990, Fort se mudó a Buenos Aires y fundó su propia empresa de limpieza llamada \"Ricardo Fort S.A.\", la cual se convirtió en un éxito comercial. A principios de la década de 2000, comenzó a aparecer en programas de televisión, donde se destacó por su personalidad extravagante y su estilo de vida ostentoso. Su fama creció rápidamente, convirtiéndose en un personaje polémico y controversial en el mundo del espectáculo argentino.  Vida personal y familia  Fort se casó en dos ocasiones, primero con Gustavo Martínez y luego con Marisa Bello. Tuvo dos hijos, Felipito y Martita, fruto de su relación con Marisa Bello. Su vida personal estuvo marcada por la polémica y los escándalos mediáticos.  Fallecimiento  Lamentablemente, Ricardo Fort falleció el 25 de noviembre de 2013 a los 45 años de edad, debido a una complicación derivada de una intervención quirúrgica. Su muerte conmocionó al mundo del espectáculo argentino y generó una gran cobertura mediática.\n",
      "--------------------------------------------------------------------------------\n",
      "2024-04-11 17:45:25.583823 [INFO] Vamos a revisar la parte [2/5] ...\n",
      "[1/5] Respuesta original:\n",
      "Biografía  Inicios y primeros años  Ricardo Fort nació el 23 de noviembre de 1968 en Venado Tuerto, provincia de Santa Fe, Argentina. Desde muy joven, se involucró en los negocios familiares dedicados a la venta de artículos de limpieza.  Carrera empresarial y fama mediática  En la década de 1990, Fort se mudó a Buenos Aires y fundó su propia empresa de limpieza llamada \"Ricardo Fort S.A.\", la cual se convirtió en un éxito comercial. A principios de la década de 2000, comenzó a aparecer en programas de televisión, donde se destacó por su personalidad extravagante y su estilo de vida ostentoso. Su fama creció rápidamente, convirtiéndose en un personaje polémico y controversial en el mundo del espectáculo argentino.  Vida personal y familia  Fort se casó en dos ocasiones, primero con Gustavo Martínez y luego con Marisa Bello. Tuvo dos hijos, Felipito y Martita, fruto de su relación con Marisa Bello. Su vida personal estuvo marcada por la polémica y los escándalos mediáticos.  Fallecimiento  Lamentablemente, Ricardo Fort falleció el 25 de noviembre de 2013 a los 45 años de edad, debido a una complicación derivada de una intervención quirúrgica. Su muerte conmocionó al mundo del espectáculo argentino y generó una gran cobertura mediática.  `Ricardo Fort fue un empresario, productor de televisión y celebridad argentina muy conocida. Nació en 1968 en Buenos Aires, Argentina.\n",
      "2024-04-11 17:45:25.583857 [INFO] Generamos una 'query` que vamos a usar para buscar después ...\n",
      "2024-04-11 17:45:26.946801 - [INFO] La función get_query_wrapper completó su ejecución exitosamente.\n",
      ">>> 1/5 Query: \"Ricardo Fort\" \"lugar de nacimiento\" \"fecha de fallecimiento\"\n",
      "2024-04-11 17:45:26.947810 [INFO] Arrancamos a crawlear las páginas ...\n",
      "2024-04-11 17:45:56.975577 - [INFO] Timeout: La función get_content_wrapper excedió el tiempo de 30s.\n",
      "2024-04-11 17:45:56.980280 [INFO] Revisamos las respuestas contra las páginas ...[0/2]\n",
      "2024-04-11 17:46:04.461520 - [INFO] La función get_revise_answer_wrapper completó su ejecución exitosamente.\n"
     ]
    },
    {
     "data": {
      "text/html": [
       "<div style='color:red;'>--- text1</div><div style='color:green;'>+++ text2</div><div style='color:blue;'>@@ -14,6 +14,4 @@</div><br> Fallecimiento<br><br><div style='color:red;'>-Lamentablemente, Ricardo Fort falleció el 25 de noviembre de 2013 a los 45 años de edad, debido a una complicación derivada de una intervención quirúrgica. Su muerte conmocionó al mundo del espectáculo argentino y generó una gran cobertura mediática.</div><div style='color:red;'>-</div><div style='color:red;'>-`Ricardo Fort fue un empresario, productor de televisión y celebridad argentina muy conocida. Nació en 1968 en Buenos Aires, Argentina.</div><div style='color:green;'>+Ricardo Fort falleció el 25 de noviembre de 2013 a los 45 años de edad en Buenos Aires, Argentina, debido a una complicación derivada de una intervención quirúrgica. Su muerte conmocionó al mundo del espectáculo argentino y generó una gran cobertura mediática.</div>"
      ],
      "text/plain": [
       "<IPython.core.display.HTML object>"
      ]
     },
     "metadata": {},
     "output_type": "display_data"
    },
    {
     "name": "stdout",
     "output_type": "stream",
     "text": [
      "2024-04-11 17:46:04.464796 [INFO] Respuesta revisada: [0/2]\n",
      "2024-04-11 17:46:04.464848 [INFO] Revisamos las respuestas contra las páginas ...[1/2]\n",
      "2024-04-11 17:46:16.423677 - [INFO] La función get_revise_answer_wrapper completó su ejecución exitosamente.\n"
     ]
    },
    {
     "data": {
      "text/html": [
       "<div style='color:red;'>--- text1</div><div style='color:green;'>+++ text2</div><div style='color:blue;'>@@ -2,16 +2,16 @@</div><br> Inicios y primeros años<br><br><div style='color:red;'>-Ricardo Fort nació el 23 de noviembre de 1968 en Venado Tuerto, provincia de Santa Fe, Argentina. Desde muy joven, se involucró en los negocios familiares dedicados a la venta de artículos de limpieza.</div><div style='color:green;'>+Ricardo Fort nació el 5 de noviembre de 1968 en Venado Tuerto, provincia de Santa Fe, Argentina. Desde muy joven, se involucró en los negocios familiares dedicados a la venta de artículos de limpieza y productos de tocador.</div><br> Carrera empresarial y fama mediática<br><br><div style='color:red;'>-En la década de 1990, Fort se mudó a Buenos Aires y fundó su propia empresa de limpieza llamada \"Ricardo Fort S.A.\", la cual se convirtió en un éxito comercial. A principios de la década de 2000, comenzó a aparecer en programas de televisión, donde se destacó por su personalidad extravagante y su estilo de vida ostentoso. Su fama creció rápidamente, convirtiéndose en un personaje polémico y controversial en el mundo del espectáculo argentino.</div><div style='color:green;'>+En la década de 1990, Fort se mudó a Buenos Aires y fundó su propia empresa de limpieza llamada \"Ricardo Fort S.A.\", la cual se convirtió en un éxito comercial. A principios de la década de 2000, comenzó a aparecer en programas de televisión, donde se destacó por su personalidad extravagante, su estilo de vida ostentoso y su gusto por las cirugías estéticas. Su fama creció rápidamente, convirtiéndose en un personaje polémico y controversial en el mundo del espectáculo argentino.</div><br> Vida personal y familia<br><br><div style='color:red;'>-Fort se casó en dos ocasiones, primero con Gustavo Martínez y luego con Marisa Bello. Tuvo dos hijos, Felipito y Martita, fruto de su relación con Marisa Bello. Su vida personal estuvo marcada por la polémica y los escándalos mediáticos.</div><div style='color:green;'>+Fort se casó en dos ocasiones, primero con Gustavo Martínez y luego con Marisa Bello. Tuvo dos hijos, Felipito y Martita, fruto de su relación con Marisa Bello. Su vida personal estuvo marcada por la polémica, los escándalos mediáticos y su gusto por las cirugías estéticas.</div><br> Fallecimiento<br><br><div style='color:red;'>-Ricardo Fort falleció el 25 de noviembre de 2013 a los 45 años de edad en Buenos Aires, Argentina, debido a una complicación derivada de una intervención quirúrgica. Su muerte conmocionó al mundo del espectáculo argentino y generó una gran cobertura mediática.</div><div style='color:green;'>+Ricardo Fort falleció el 25 de noviembre de 2013 a los 45 años de edad en Buenos Aires, Argentina, debido a una complicación derivada de una intervención quirúrgica de una cirugía de reducción de estómago. Su muerte conmocionó al mundo del espectáculo argentino y generó una gran cobertura mediática.</div>"
      ],
      "text/plain": [
       "<IPython.core.display.HTML object>"
      ]
     },
     "metadata": {},
     "output_type": "display_data"
    },
    {
     "name": "stdout",
     "output_type": "stream",
     "text": [
      "2024-04-11 17:46:16.427044 [INFO] Respuesta revisada: [1/2]\n",
      "[1/5] RESPUESTA REVISADA:\n",
      " Biografía  Inicios y primeros años  Ricardo Fort nació el 5 de noviembre de 1968 en Venado Tuerto, provincia de Santa Fe, Argentina. Desde muy joven, se involucró en los negocios familiares dedicados a la venta de artículos de limpieza y productos de tocador.  Carrera empresarial y fama mediática  En la década de 1990, Fort se mudó a Buenos Aires y fundó su propia empresa de limpieza llamada \"Ricardo Fort S.A.\", la cual se convirtió en un éxito comercial. A principios de la década de 2000, comenzó a aparecer en programas de televisión, donde se destacó por su personalidad extravagante, su estilo de vida ostentoso y su gusto por las cirugías estéticas. Su fama creció rápidamente, convirtiéndose en un personaje polémico y controversial en el mundo del espectáculo argentino.  Vida personal y familia  Fort se casó en dos ocasiones, primero con Gustavo Martínez y luego con Marisa Bello. Tuvo dos hijos, Felipito y Martita, fruto de su relación con Marisa Bello. Su vida personal estuvo marcada por la polémica, los escándalos mediáticos y su gusto por las cirugías estéticas.  Fallecimiento  Ricardo Fort falleció el 25 de noviembre de 2013 a los 45 años de edad en Buenos Aires, Argentina, debido a una complicación derivada de una intervención quirúrgica de una cirugía de reducción de estómago. Su muerte conmocionó al mundo del espectáculo argentino y generó una gran cobertura mediática.\n",
      "--------------------------------------------------------------------------------\n",
      "2024-04-11 17:46:16.427132 [INFO] Vamos a revisar la parte [3/5] ...\n",
      "[2/5] Respuesta original:\n",
      "Biografía  Inicios y primeros años  Ricardo Fort nació el 5 de noviembre de 1968 en Venado Tuerto, provincia de Santa Fe, Argentina. Desde muy joven, se involucró en los negocios familiares dedicados a la venta de artículos de limpieza y productos de tocador.  Carrera empresarial y fama mediática  En la década de 1990, Fort se mudó a Buenos Aires y fundó su propia empresa de limpieza llamada \"Ricardo Fort S.A.\", la cual se convirtió en un éxito comercial. A principios de la década de 2000, comenzó a aparecer en programas de televisión, donde se destacó por su personalidad extravagante, su estilo de vida ostentoso y su gusto por las cirugías estéticas. Su fama creció rápidamente, convirtiéndose en un personaje polémico y controversial en el mundo del espectáculo argentino.  Vida personal y familia  Fort se casó en dos ocasiones, primero con Gustavo Martínez y luego con Marisa Bello. Tuvo dos hijos, Felipito y Martita, fruto de su relación con Marisa Bello. Su vida personal estuvo marcada por la polémica, los escándalos mediáticos y su gusto por las cirugías estéticas.  Fallecimiento  Ricardo Fort falleció el 25 de noviembre de 2013 a los 45 años de edad en Buenos Aires, Argentina, debido a una complicación derivada de una intervención quirúrgica de una cirugía de reducción de estómago. Su muerte conmocionó al mundo del espectáculo argentino y generó una gran cobertura mediática.  Fort se hizo famoso por su participación en varios reality shows y programas de televisión, donde mostraba su extravagante estilo de vida y personalidad excéntrica. Fue conocido por su amor por las cirugías plásticas y su obsesión por mantener una apariencia joven.\n",
      "2024-04-11 17:46:16.427164 [INFO] Generamos una 'query` que vamos a usar para buscar después ...\n",
      "2024-04-11 17:46:18.886481 - [INFO] La función get_query_wrapper completó su ejecución exitosamente.\n",
      ">>> 2/5 Query: ricardo fort cirugías plásticas obsesión apariencia joven\n",
      "2024-04-11 17:46:18.887454 [INFO] Arrancamos a crawlear las páginas ...\n",
      "2024-04-11 17:46:48.922183 - [INFO] Timeout: La función get_content_wrapper excedió el tiempo de 30s.\n",
      "2024-04-11 17:46:48.926988 [INFO] Revisamos las respuestas contra las páginas ...[0/2]\n",
      "2024-04-11 17:46:57.678670 - [INFO] La función get_revise_answer_wrapper completó su ejecución exitosamente.\n"
     ]
    },
    {
     "data": {
      "text/html": [
       "<div style='color:red;'>--- text1</div><div style='color:green;'>+++ text2</div><div style='color:blue;'>@@ -6,14 +6,12 @@</div><br> Carrera empresarial y fama mediática<br><br><div style='color:red;'>-En la década de 1990, Fort se mudó a Buenos Aires y fundó su propia empresa de limpieza llamada \"Ricardo Fort S.A.\", la cual se convirtió en un éxito comercial. A principios de la década de 2000, comenzó a aparecer en programas de televisión, donde se destacó por su personalidad extravagante, su estilo de vida ostentoso y su gusto por las cirugías estéticas. Su fama creció rápidamente, convirtiéndose en un personaje polémico y controversial en el mundo del espectáculo argentino.</div><div style='color:green;'>+En la década de 1990, Fort se mudó a Buenos Aires y fundó su propia empresa de limpieza llamada \"Ricardo Fort S.A.\", la cual se convirtió en un éxito comercial. A principios de la década de 2000, comenzó a aparecer en programas de televisión, donde se destacó por su personalidad extravagante, su estilo de vida ostentoso y su gusto por las cirugías estéticas. Su fama creció rápidamente, convirtiéndose en un personaje polémico y controversial en el mundo del espectáculo argentino. Participó en varios reality shows y programas de televisión, donde mostraba su extravagante estilo de vida y personalidad excéntrica.</div><br> Vida personal y familia<br><br><div style='color:red;'>-Fort se casó en dos ocasiones, primero con Gustavo Martínez y luego con Marisa Bello. Tuvo dos hijos, Felipito y Martita, fruto de su relación con Marisa Bello. Su vida personal estuvo marcada por la polémica, los escándalos mediáticos y su gusto por las cirugías estéticas.</div><div style='color:green;'>+Fort se casó en dos ocasiones, primero con Gustavo Martínez y luego con Marisa Bello. Tuvo dos hijos, Felipito y Martita, fruto de su relación con Marisa Bello. Su vida personal estuvo marcada por la polémica, los escándalos mediáticos y su gusto por las cirugías estéticas. Fue conocido por su amor por las cirugías plásticas y su obsesión por mantener una apariencia joven.</div><br> Fallecimiento<br><br><div style='color:red;'>-Ricardo Fort falleció el 25 de noviembre de 2013 a los 45 años de edad en Buenos Aires, Argentina, debido a una complicación derivada de una intervención quirúrgica de una cirugía de reducción de estómago. Su muerte conmocionó al mundo del espectáculo argentino y generó una gran cobertura mediática.</div><div style='color:red;'>-</div><div style='color:red;'>-Fort se hizo famoso por su participación en varios reality shows y programas de televisión, donde mostraba su extravagante estilo de vida y personalidad excéntrica. Fue conocido por su amor por las cirugías plásticas y su obsesión por mantener una apariencia joven.</div><div style='color:green;'>+Ricardo Fort falleció el 25 de noviembre de 2013 a los 45 años de edad en Buenos Aires, Argentina, debido a una complicación derivada de una intervención quirúrgica de una cirugía de reducción de estómago. Su muerte conmocionó al mundo del espectáculo argentino y generó una gran cobertura mediática.</div>"
      ],
      "text/plain": [
       "<IPython.core.display.HTML object>"
      ]
     },
     "metadata": {},
     "output_type": "display_data"
    },
    {
     "name": "stdout",
     "output_type": "stream",
     "text": [
      "2024-04-11 17:46:57.682196 [INFO] Respuesta revisada: [0/2]\n",
      "2024-04-11 17:46:57.682246 [INFO] Revisamos las respuestas contra las páginas ...[1/2]\n",
      "2024-04-11 17:47:05.518723 - [INFO] La función get_revise_answer_wrapper completó su ejecución exitosamente.\n"
     ]
    },
    {
     "data": {
      "text/html": [],
      "text/plain": [
       "<IPython.core.display.HTML object>"
      ]
     },
     "metadata": {},
     "output_type": "display_data"
    },
    {
     "name": "stdout",
     "output_type": "stream",
     "text": [
      "2024-04-11 17:47:05.521873 [INFO] Respuesta revisada: [1/2]\n",
      "[2/5] RESPUESTA REVISADA:\n",
      " Biografía  Inicios y primeros años  Ricardo Fort nació el 5 de noviembre de 1968 en Venado Tuerto, provincia de Santa Fe, Argentina. Desde muy joven, se involucró en los negocios familiares dedicados a la venta de artículos de limpieza y productos de tocador.  Carrera empresarial y fama mediática  En la década de 1990, Fort se mudó a Buenos Aires y fundó su propia empresa de limpieza llamada \"Ricardo Fort S.A.\", la cual se convirtió en un éxito comercial. A principios de la década de 2000, comenzó a aparecer en programas de televisión, donde se destacó por su personalidad extravagante, su estilo de vida ostentoso y su gusto por las cirugías estéticas. Su fama creció rápidamente, convirtiéndose en un personaje polémico y controversial en el mundo del espectáculo argentino. Participó en varios reality shows y programas de televisión, donde mostraba su extravagante estilo de vida y personalidad excéntrica.  Vida personal y familia  Fort se casó en dos ocasiones, primero con Gustavo Martínez y luego con Marisa Bello. Tuvo dos hijos, Felipito y Martita, fruto de su relación con Marisa Bello. Su vida personal estuvo marcada por la polémica, los escándalos mediáticos y su gusto por las cirugías estéticas. Fue conocido por su amor por las cirugías plásticas y su obsesión por mantener una apariencia joven.  Fallecimiento  Ricardo Fort falleció el 25 de noviembre de 2013 a los 45 años de edad en Buenos Aires, Argentina, debido a una complicación derivada de una intervención quirúrgica de una cirugía de reducción de estómago. Su muerte conmocionó al mundo del espectáculo argentino y generó una gran cobertura mediática.\n",
      "--------------------------------------------------------------------------------\n",
      "2024-04-11 17:47:05.521974 [INFO] Vamos a revisar la parte [4/5] ...\n",
      "[3/5] Respuesta original:\n",
      "Biografía  Inicios y primeros años  Ricardo Fort nació el 5 de noviembre de 1968 en Venado Tuerto, provincia de Santa Fe, Argentina. Desde muy joven, se involucró en los negocios familiares dedicados a la venta de artículos de limpieza y productos de tocador.  Carrera empresarial y fama mediática  En la década de 1990, Fort se mudó a Buenos Aires y fundó su propia empresa de limpieza llamada \"Ricardo Fort S.A.\", la cual se convirtió en un éxito comercial. A principios de la década de 2000, comenzó a aparecer en programas de televisión, donde se destacó por su personalidad extravagante, su estilo de vida ostentoso y su gusto por las cirugías estéticas. Su fama creció rápidamente, convirtiéndose en un personaje polémico y controversial en el mundo del espectáculo argentino. Participó en varios reality shows y programas de televisión, donde mostraba su extravagante estilo de vida y personalidad excéntrica.  Vida personal y familia  Fort se casó en dos ocasiones, primero con Gustavo Martínez y luego con Marisa Bello. Tuvo dos hijos, Felipito y Martita, fruto de su relación con Marisa Bello. Su vida personal estuvo marcada por la polémica, los escándalos mediáticos y su gusto por las cirugías estéticas. Fue conocido por su amor por las cirugías plásticas y su obsesión por mantener una apariencia joven.  Fallecimiento  Ricardo Fort falleció el 25 de noviembre de 2013 a los 45 años de edad en Buenos Aires, Argentina, debido a una complicación derivada de una intervención quirúrgica de una cirugía de reducción de estómago. Su muerte conmocionó al mundo del espectáculo argentino y generó una gran cobertura mediática.  A principios de la década de 2000, Fort fundó su propia productora de televisión y produjo varios programas exitosos. También incursionó en los negocios inmobiliarios y la venta de productos de belleza.\n",
      "2024-04-11 17:47:05.522009 [INFO] Generamos una 'query` que vamos a usar para buscar después ...\n",
      "2024-04-11 17:47:12.745515 - [INFO] La función get_query_wrapper completó su ejecución exitosamente.\n",
      ">>> 3/5 Query: ricardo fort empresas negocios productora televisión programas exitosos negocios inmobiliarios venta productos belleza\n",
      "2024-04-11 17:47:12.746519 [INFO] Arrancamos a crawlear las páginas ...\n",
      "2024-04-11 17:47:42.761835 - [INFO] Timeout: La función get_content_wrapper excedió el tiempo de 30s.\n",
      "2024-04-11 17:47:42.766542 [INFO] Revisamos las respuestas contra las páginas ...[0/2]\n",
      "2024-04-11 17:47:51.872939 - [INFO] La función get_revise_answer_wrapper completó su ejecución exitosamente.\n"
     ]
    },
    {
     "data": {
      "text/html": [
       "<div style='color:red;'>--- text1</div><div style='color:green;'>+++ text2</div><div style='color:blue;'>@@ -8,12 +8,12 @@</div><br> En la década de 1990, Fort se mudó a Buenos Aires y fundó su propia empresa de limpieza llamada \"Ricardo Fort S.A.\", la cual se convirtió en un éxito comercial. A principios de la década de 2000, comenzó a aparecer en programas de televisión, donde se destacó por su personalidad extravagante, su estilo de vida ostentoso y su gusto por las cirugías estéticas. Su fama creció rápidamente, convirtiéndose en un personaje polémico y controversial en el mundo del espectáculo argentino. Participó en varios reality shows y programas de televisión, donde mostraba su extravagante estilo de vida y personalidad excéntrica.<br><br><div style='color:green;'>+A principios de la década de 2000, Fort fundó su propia productora de televisión y produjo varios programas exitosos. También incursionó en los negocios inmobiliarios y la venta de productos de belleza.</div><div style='color:green;'>+</div> Vida personal y familia<br><br> Fort se casó en dos ocasiones, primero con Gustavo Martínez y luego con Marisa Bello. Tuvo dos hijos, Felipito y Martita, fruto de su relación con Marisa Bello. Su vida personal estuvo marcada por la polémica, los escándalos mediáticos y su gusto por las cirugías estéticas. Fue conocido por su amor por las cirugías plásticas y su obsesión por mantener una apariencia joven.<br><br> Fallecimiento<br><br><div style='color:red;'>-Ricardo Fort falleció el 25 de noviembre de 2013 a los 45 años de edad en Buenos Aires, Argentina, debido a una complicación derivada de una intervención quirúrgica de una cirugía de reducción de estómago. Su muerte conmocionó al mundo del espectáculo argentino y generó una gran cobertura mediática.</div><div style='color:red;'>-</div><div style='color:red;'>-A principios de la década de 2000, Fort fundó su propia productora de televisión y produjo varios programas exitosos. También incursionó en los negocios inmobiliarios y la venta de productos de belleza.</div><div style='color:green;'>+Ricardo Fort falleció el 25 de noviembre de 2013 a los 45 años de edad en Buenos Aires, Argentina, debido a una complicación derivada de una intervención quirúrgica de una cirugía de reducción de estómago. Su muerte conmocionó al mundo del espectáculo argentino y generó una gran cobertura mediática.</div>"
      ],
      "text/plain": [
       "<IPython.core.display.HTML object>"
      ]
     },
     "metadata": {},
     "output_type": "display_data"
    },
    {
     "name": "stdout",
     "output_type": "stream",
     "text": [
      "2024-04-11 17:47:51.876463 [INFO] Respuesta revisada: [0/2]\n",
      "2024-04-11 17:47:51.876513 [INFO] Revisamos las respuestas contra las páginas ...[1/2]\n",
      "2024-04-11 17:48:04.003869 - [INFO] La función get_revise_answer_wrapper completó su ejecución exitosamente.\n"
     ]
    },
    {
     "data": {
      "text/html": [
       "<div style='color:red;'>--- text1</div><div style='color:green;'>+++ text2</div><div style='color:blue;'>@@ -6,9 +6,11 @@</div><br> Carrera empresarial y fama mediática<br><br><div style='color:red;'>-En la década de 1990, Fort se mudó a Buenos Aires y fundó su propia empresa de limpieza llamada \"Ricardo Fort S.A.\", la cual se convirtió en un éxito comercial. A principios de la década de 2000, comenzó a aparecer en programas de televisión, donde se destacó por su personalidad extravagante, su estilo de vida ostentoso y su gusto por las cirugías estéticas. Su fama creció rápidamente, convirtiéndose en un personaje polémico y controversial en el mundo del espectáculo argentino. Participó en varios reality shows y programas de televisión, donde mostraba su extravagante estilo de vida y personalidad excéntrica.</div><div style='color:green;'>+En la década de 1990, Fort se mudó a Buenos Aires y fundó su propia empresa de limpieza llamada \"Ricardo Fort S.A.\", la cual se convirtió en un éxito comercial. A principios de la década de 2000, comenzó a aparecer en programas de televisión, donde se destacó por su personalidad extravagante, su estilo de vida ostentoso y su gusto por las cirugías estéticas. Su fama creció rápidamente, convirtiéndose en un personaje polémico y controversial en el mundo del espectáculo argentino. Participó en varios reality shows y programas de televisión, donde mostraba su extravagante estilo de vida y personalidad excéntrica. A mediados de la década de 2000, Fort fundó su propia productora de televisión, Filosofía Producciones, y produjo varios programas exitosos.</div><br><div style='color:red;'>-A principios de la década de 2000, Fort fundó su propia productora de televisión y produjo varios programas exitosos. También incursionó en los negocios inmobiliarios y la venta de productos de belleza.</div><div style='color:green;'>+Negocios y emprendimientos</div><div style='color:green;'>+</div><div style='color:green;'>+Además de su empresa de limpieza y su productora de televisión, Fort incursionó en los negocios inmobiliarios y la venta de productos de belleza. Lanzó su propia línea de cosméticos llamada \"Ricardo Fort Cosmetics\".</div><br> Vida personal y familia<br><br>"
      ],
      "text/plain": [
       "<IPython.core.display.HTML object>"
      ]
     },
     "metadata": {},
     "output_type": "display_data"
    },
    {
     "name": "stdout",
     "output_type": "stream",
     "text": [
      "2024-04-11 17:48:04.007389 [INFO] Respuesta revisada: [1/2]\n",
      "[3/5] RESPUESTA REVISADA:\n",
      " Biografía  Inicios y primeros años  Ricardo Fort nació el 5 de noviembre de 1968 en Venado Tuerto, provincia de Santa Fe, Argentina. Desde muy joven, se involucró en los negocios familiares dedicados a la venta de artículos de limpieza y productos de tocador.  Carrera empresarial y fama mediática  En la década de 1990, Fort se mudó a Buenos Aires y fundó su propia empresa de limpieza llamada \"Ricardo Fort S.A.\", la cual se convirtió en un éxito comercial. A principios de la década de 2000, comenzó a aparecer en programas de televisión, donde se destacó por su personalidad extravagante, su estilo de vida ostentoso y su gusto por las cirugías estéticas. Su fama creció rápidamente, convirtiéndose en un personaje polémico y controversial en el mundo del espectáculo argentino. Participó en varios reality shows y programas de televisión, donde mostraba su extravagante estilo de vida y personalidad excéntrica. A mediados de la década de 2000, Fort fundó su propia productora de televisión, Filosofía Producciones, y produjo varios programas exitosos.  Negocios y emprendimientos  Además de su empresa de limpieza y su productora de televisión, Fort incursionó en los negocios inmobiliarios y la venta de productos de belleza. Lanzó su propia línea de cosméticos llamada \"Ricardo Fort Cosmetics\".  Vida personal y familia  Fort se casó en dos ocasiones, primero con Gustavo Martínez y luego con Marisa Bello. Tuvo dos hijos, Felipito y Martita, fruto de su relación con Marisa Bello. Su vida personal estuvo marcada por la polémica, los escándalos mediáticos y su gusto por las cirugías estéticas. Fue conocido por su amor por las cirugías plásticas y su obsesión por mantener una apariencia joven.  Fallecimiento  Ricardo Fort falleció el 25 de noviembre de 2013 a los 45 años de edad en Buenos Aires, Argentina, debido a una complicación derivada de una intervención quirúrgica de una cirugía de reducción de estómago. Su muerte conmocionó al mundo del espectáculo argentino y generó una gran cobertura mediática.\n",
      "--------------------------------------------------------------------------------\n",
      "2024-04-11 17:48:04.007474 [INFO] Vamos a revisar la parte [5/5] ...\n",
      "[4/5] Respuesta original:\n",
      "Biografía  Inicios y primeros años  Ricardo Fort nació el 5 de noviembre de 1968 en Venado Tuerto, provincia de Santa Fe, Argentina. Desde muy joven, se involucró en los negocios familiares dedicados a la venta de artículos de limpieza y productos de tocador.  Carrera empresarial y fama mediática  En la década de 1990, Fort se mudó a Buenos Aires y fundó su propia empresa de limpieza llamada \"Ricardo Fort S.A.\", la cual se convirtió en un éxito comercial. A principios de la década de 2000, comenzó a aparecer en programas de televisión, donde se destacó por su personalidad extravagante, su estilo de vida ostentoso y su gusto por las cirugías estéticas. Su fama creció rápidamente, convirtiéndose en un personaje polémico y controversial en el mundo del espectáculo argentino. Participó en varios reality shows y programas de televisión, donde mostraba su extravagante estilo de vida y personalidad excéntrica. A mediados de la década de 2000, Fort fundó su propia productora de televisión, Filosofía Producciones, y produjo varios programas exitosos.  Negocios y emprendimientos  Además de su empresa de limpieza y su productora de televisión, Fort incursionó en los negocios inmobiliarios y la venta de productos de belleza. Lanzó su propia línea de cosméticos llamada \"Ricardo Fort Cosmetics\".  Vida personal y familia  Fort se casó en dos ocasiones, primero con Gustavo Martínez y luego con Marisa Bello. Tuvo dos hijos, Felipito y Martita, fruto de su relación con Marisa Bello. Su vida personal estuvo marcada por la polémica, los escándalos mediáticos y su gusto por las cirugías estéticas. Fue conocido por su amor por las cirugías plásticas y su obsesión por mantener una apariencia joven.  Fallecimiento  Ricardo Fort falleció el 25 de noviembre de 2013 a los 45 años de edad en Buenos Aires, Argentina, debido a una complicación derivada de una intervención quirúrgica de una cirugía de reducción de estómago. Su muerte conmocionó al mundo del espectáculo argentino y generó una gran cobertura mediática.  Lamentablemente, Ricardo Fort falleció en 2013 a la edad de 45 años debido a una insuficiencia cardíaca y otras complicaciones de salud. Dejó atrás a sus dos hijos gemelos y un legado como una de las figuras más polémicas y excéntricas de la televisión argentina.`\n",
      "2024-04-11 17:48:04.007507 [INFO] Generamos una 'query` que vamos a usar para buscar después ...\n",
      "2024-04-11 17:48:05.478812 - [INFO] La función get_query_wrapper completó su ejecución exitosamente.\n",
      ">>> 4/5 Query: \"Ricardo Fort\" muerte edad complicaciones cirugía reducción estómago\n",
      "2024-04-11 17:48:05.479927 [INFO] Arrancamos a crawlear las páginas ...\n",
      "2024-04-11 17:48:35.514988 - [INFO] Timeout: La función get_content_wrapper excedió el tiempo de 30s.\n",
      "2024-04-11 17:48:35.519615 [INFO] Revisamos las respuestas contra las páginas ...[0/2]\n",
      "2024-04-11 17:48:45.840642 - [INFO] La función get_revise_answer_wrapper completó su ejecución exitosamente.\n"
     ]
    },
    {
     "data": {
      "text/html": [
       "<div style='color:red;'>--- text1</div><div style='color:green;'>+++ text2</div><div style='color:blue;'>@@ -6,18 +6,16 @@</div><br> Carrera empresarial y fama mediática<br><br><div style='color:red;'>-En la década de 1990, Fort se mudó a Buenos Aires y fundó su propia empresa de limpieza llamada \"Ricardo Fort S.A.\", la cual se convirtió en un éxito comercial. A principios de la década de 2000, comenzó a aparecer en programas de televisión, donde se destacó por su personalidad extravagante, su estilo de vida ostentoso y su gusto por las cirugías estéticas. Su fama creció rápidamente, convirtiéndose en un personaje polémico y controversial en el mundo del espectáculo argentino. Participó en varios reality shows y programas de televisión, donde mostraba su extravagante estilo de vida y personalidad excéntrica. A mediados de la década de 2000, Fort fundó su propia productora de televisión, Filosofía Producciones, y produjo varios programas exitosos.</div><div style='color:green;'>+En la década de 1990, Fort se mudó a Buenos Aires y fundó su propia empresa de limpieza llamada \"Ricardo Fort S.A.\", la cual se convirtió en un éxito comercial. A principios de la década de 2000, comenzó a aparecer en programas de televisión, donde se destacó por su personalidad extravagante, su estilo de vida ostentoso y su gusto por las cirugías estéticas. Su fama creció rápidamente, convirtiéndose en un personaje polémico y controversial en el mundo del espectáculo argentino. Participó en varios reality shows y programas de televisión, donde mostraba su extravagante estilo de vida y personalidad excéntrica.</div><br> Negocios y emprendimientos<br><br><div style='color:red;'>-Además de su empresa de limpieza y su productora de televisión, Fort incursionó en los negocios inmobiliarios y la venta de productos de belleza. Lanzó su propia línea de cosméticos llamada \"Ricardo Fort Cosmetics\".</div><div style='color:green;'>+A mediados de la década de 2000, Fort fundó su propia productora de televisión, Filosofía Producciones, y produjo varios programas exitosos. Además de su empresa de limpieza y su productora de televisión, Fort incursionó en los negocios inmobiliarios y la venta de productos de belleza. Lanzó su propia línea de cosméticos llamada \"Ricardo Fort Cosmetics\".</div><br> Vida personal y familia<br><br><div style='color:red;'>-Fort se casó en dos ocasiones, primero con Gustavo Martínez y luego con Marisa Bello. Tuvo dos hijos, Felipito y Martita, fruto de su relación con Marisa Bello. Su vida personal estuvo marcada por la polémica, los escándalos mediáticos y su gusto por las cirugías estéticas. Fue conocido por su amor por las cirugías plásticas y su obsesión por mantener una apariencia joven.</div><div style='color:green;'>+Fort se casó en dos ocasiones, primero con Gustavo Martínez y luego con Marisa Bello. Tuvo dos hijos gemelos, Felipito y Martita, fruto de su relación con Marisa Bello. Su vida personal estuvo marcada por la polémica, los escándalos mediáticos y su gusto por las cirugías estéticas. Fue conocido por su amor por las cirugías plásticas y su obsesión por mantener una apariencia joven.</div><br> Fallecimiento<br><br><div style='color:red;'>-Ricardo Fort falleció el 25 de noviembre de 2013 a los 45 años de edad en Buenos Aires, Argentina, debido a una complicación derivada de una intervención quirúrgica de una cirugía de reducción de estómago. Su muerte conmocionó al mundo del espectáculo argentino y generó una gran cobertura mediática.</div><div style='color:red;'>-</div><div style='color:red;'>-Lamentablemente, Ricardo Fort falleció en 2013 a la edad de 45 años debido a una insuficiencia cardíaca y otras complicaciones de salud. Dejó atrás a sus dos hijos gemelos y un legado como una de las figuras más polémicas y excéntricas de la televisión argentina.`</div><div style='color:green;'>+Ricardo Fort falleció el 25 de noviembre de 2013 a los 45 años de edad en Buenos Aires, Argentina, debido a una insuficiencia cardíaca y otras complicaciones derivadas de una cirugía de reducción de estómago. Su muerte conmocionó al mundo del espectáculo argentino y generó una gran cobertura mediática.</div>"
      ],
      "text/plain": [
       "<IPython.core.display.HTML object>"
      ]
     },
     "metadata": {},
     "output_type": "display_data"
    },
    {
     "name": "stdout",
     "output_type": "stream",
     "text": [
      "2024-04-11 17:48:45.844433 [INFO] Respuesta revisada: [0/2]\n",
      "2024-04-11 17:48:45.844484 [INFO] Revisamos las respuestas contra las páginas ...[1/2]\n",
      "2024-04-11 17:48:55.738995 - [INFO] La función get_revise_answer_wrapper completó su ejecución exitosamente.\n"
     ]
    },
    {
     "data": {
      "text/html": [],
      "text/plain": [
       "<IPython.core.display.HTML object>"
      ]
     },
     "metadata": {},
     "output_type": "display_data"
    },
    {
     "name": "stdout",
     "output_type": "stream",
     "text": [
      "2024-04-11 17:48:55.742298 [INFO] Respuesta revisada: [1/2]\n",
      "[4/5] RESPUESTA REVISADA:\n",
      " Biografía  Inicios y primeros años  Ricardo Fort nació el 5 de noviembre de 1968 en Venado Tuerto, provincia de Santa Fe, Argentina. Desde muy joven, se involucró en los negocios familiares dedicados a la venta de artículos de limpieza y productos de tocador.  Carrera empresarial y fama mediática  En la década de 1990, Fort se mudó a Buenos Aires y fundó su propia empresa de limpieza llamada \"Ricardo Fort S.A.\", la cual se convirtió en un éxito comercial. A principios de la década de 2000, comenzó a aparecer en programas de televisión, donde se destacó por su personalidad extravagante, su estilo de vida ostentoso y su gusto por las cirugías estéticas. Su fama creció rápidamente, convirtiéndose en un personaje polémico y controversial en el mundo del espectáculo argentino. Participó en varios reality shows y programas de televisión, donde mostraba su extravagante estilo de vida y personalidad excéntrica.  Negocios y emprendimientos  A mediados de la década de 2000, Fort fundó su propia productora de televisión, Filosofía Producciones, y produjo varios programas exitosos. Además de su empresa de limpieza y su productora de televisión, Fort incursionó en los negocios inmobiliarios y la venta de productos de belleza. Lanzó su propia línea de cosméticos llamada \"Ricardo Fort Cosmetics\".  Vida personal y familia  Fort se casó en dos ocasiones, primero con Gustavo Martínez y luego con Marisa Bello. Tuvo dos hijos gemelos, Felipito y Martita, fruto de su relación con Marisa Bello. Su vida personal estuvo marcada por la polémica, los escándalos mediáticos y su gusto por las cirugías estéticas. Fue conocido por su amor por las cirugías plásticas y su obsesión por mantener una apariencia joven.  Fallecimiento  Ricardo Fort falleció el 25 de noviembre de 2013 a los 45 años de edad en Buenos Aires, Argentina, debido a una insuficiencia cardíaca y otras complicaciones derivadas de una cirugía de reducción de estómago. Su muerte conmocionó al mundo del espectáculo argentino y generó una gran cobertura mediática.\n"
     ]
    }
   ],
   "source": [
    "draft, answer = rat(\"Contame de la vida de Ricardo Fort\")"
   ]
  },
  {
   "cell_type": "code",
   "execution_count": 12,
   "metadata": {},
   "outputs": [
    {
     "data": {
      "text/html": [
       "<div style='color:red;'>--- text1</div><div style='color:green;'>+++ text2</div><div style='color:blue;'>@@ -1,3 +1,5 @@</div><div style='color:green;'>+</div><div style='color:green;'>+</div> Aquí están mis pensamientos paso a paso sobre la vida de Ricardo Fort:<br><br> `Ricardo Fort fue un empresario, productor de televisión y celebridad argentina muy conocida. Nació en 1968 en Buenos Aires, Argentina.<br>"
      ],
      "text/plain": [
       "<IPython.core.display.HTML object>"
      ]
     },
     "metadata": {},
     "output_type": "display_data"
    }
   ],
   "source": [
    "diff_html = generate_diff_html(draft, answer)\n",
    "display(HTML(diff_html))"
   ]
  },
  {
   "cell_type": "markdown",
   "metadata": {},
   "source": [
    "---"
   ]
  },
  {
   "cell_type": "markdown",
   "metadata": {
    "tags": []
   },
   "source": [
    "# Gradio Demo"
   ]
  },
  {
   "cell_type": "code",
   "execution_count": null,
   "metadata": {
    "tags": []
   },
   "outputs": [],
   "source": [
    "# %%capture\n",
    "# !pip install gradio --upgrade"
   ]
  },
  {
   "cell_type": "code",
   "execution_count": null,
   "metadata": {
    "id": "BGeb6Q9FZnq8"
   },
   "outputs": [],
   "source": [
    "def predict(message, history):\n",
    "    # rat function?\n",
    "    draft, answer = rat(message)\n",
    "    return answer"
   ]
  },
  {
   "cell_type": "code",
   "execution_count": null,
   "metadata": {
    "colab": {
     "background_save": true,
     "base_uri": "https://localhost:8080/",
     "height": 1000
    },
    "id": "YnFyowIFYtzE",
    "outputId": "3d2b8b2c-b118-4a5b-bf90-3a50f4f7fb56"
   },
   "outputs": [],
   "source": [
    "# Fast ChatBot demo\n",
    "import gradio as gr\n",
    "gr.ChatInterface(predict).launch(share=True, inline=False, debug=True)"
   ]
  }
 ],
 "metadata": {
  "colab": {
   "provenance": [],
   "toc_visible": true
  },
  "kernelspec": {
   "display_name": "conda_pytorch_p310",
   "language": "python",
   "name": "conda_pytorch_p310"
  },
  "language_info": {
   "codemirror_mode": {
    "name": "ipython",
    "version": 3
   },
   "file_extension": ".py",
   "mimetype": "text/x-python",
   "name": "python",
   "nbconvert_exporter": "python",
   "pygments_lexer": "ipython3",
   "version": "3.10.13"
  }
 },
 "nbformat": 4,
 "nbformat_minor": 4
}
