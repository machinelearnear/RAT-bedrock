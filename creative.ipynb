{
 "cells": [
  {
   "cell_type": "markdown",
   "metadata": {
    "id": "7TX0mtitYYN_"
   },
   "source": [
    "# Retrieval-augmented Thoughts"
   ]
  },
  {
   "cell_type": "code",
   "execution_count": 1,
   "metadata": {
    "tags": []
   },
   "outputs": [
    {
     "name": "stdout",
     "output_type": "stream",
     "text": [
      "Note: you may need to restart the kernel to use updated packages.\n"
     ]
    }
   ],
   "source": [
    "# source: https://medium.com/@greyboi/ddgsearch-search-duckduckgo-scrape-the-results-in-python-18f5265f1aa6\n",
    "%pip install --upgrade --quiet duckduckgo-search"
   ]
  },
  {
   "cell_type": "code",
   "execution_count": 2,
   "metadata": {
    "tags": []
   },
   "outputs": [],
   "source": [
    "# %%capture\n",
    "# !pip install boto3 --upgrade"
   ]
  },
  {
   "cell_type": "code",
   "execution_count": 3,
   "metadata": {
    "tags": []
   },
   "outputs": [],
   "source": [
    "import boto3\n",
    "import os\n",
    "import json\n",
    "import re\n",
    "\n",
    "bedrock = boto3.client(service_name='bedrock-runtime')"
   ]
  },
  {
   "cell_type": "code",
   "execution_count": 4,
   "metadata": {
    "tags": []
   },
   "outputs": [],
   "source": [
    "# model params\n",
    "max_tokens = 4096\n",
    "temperature = 0\n",
    "top_k = 250 # optional\n",
    "top_p = 0.999 # optional\n",
    "\n",
    "anthropic_version = 'bedrock-2023-05-31'\n",
    "accept = 'application/json'\n",
    "contentType = 'application/json'\n",
    "\n",
    "# set the Claude 3  model ID in Bedrock\n",
    "model_id = 'anthropic.claude-3-sonnet-20240229-v1:0'"
   ]
  },
  {
   "cell_type": "code",
   "execution_count": 50,
   "metadata": {
    "id": "V8ox9jk5Y_ZC",
    "tags": []
   },
   "outputs": [],
   "source": [
    "# Basic Tool Functions\n",
    "import os\n",
    "import json\n",
    "\n",
    "from duckduckgo_search import DDGS\n",
    "def get_search(query:str=\"\", k:int=3): # get the top-k resources with DuckDuckGo\n",
    "    return DDGS().text(query.replace('\"',''), max_results=k)\n",
    "\n",
    "from langchain_community.document_transformers import Html2TextTransformer\n",
    "from langchain_community.document_loaders import AsyncHtmlLoader\n",
    "def get_page_content(href:str):\n",
    "    loader = AsyncHtmlLoader([href])\n",
    "    docs = loader.load()\n",
    "    html2text = Html2TextTransformer()\n",
    "    docs_transformed = html2text.transform_documents(docs)\n",
    "    if len(docs_transformed) > 0:\n",
    "        return docs_transformed[0].page_content\n",
    "    else:\n",
    "        return None\n",
    "\n",
    "import tiktoken\n",
    "def num_tokens_from_string(string: str, encoding_name: str = \"cl100k_base\") -> int:\n",
    "    \"\"\"Returns the number of tokens in a text string.\"\"\"\n",
    "    encoding = tiktoken.get_encoding(encoding_name)\n",
    "    num_tokens = len(encoding.encode(string))\n",
    "    return num_tokens\n",
    "\n",
    "def chunk_text_by_sentence(text, chunk_size=2048):\n",
    "    \"\"\"Chunk the $text into sentences with less than 2k tokens.\"\"\"\n",
    "    sentences = text.split('. ')\n",
    "    chunked_text = []\n",
    "    curr_chunk = []\n",
    "    # 逐句添加文本片段，确保每个段落都小于2k个token\n",
    "    for sentence in sentences:\n",
    "        if num_tokens_from_string(\". \".join(curr_chunk)) + num_tokens_from_string(sentence) + 2 <= chunk_size:\n",
    "            curr_chunk.append(sentence)\n",
    "        else:\n",
    "            chunked_text.append(\". \".join(curr_chunk))\n",
    "            curr_chunk = [sentence]\n",
    "    # 添加最后一个片段\n",
    "    if curr_chunk:\n",
    "        chunked_text.append(\". \".join(curr_chunk))\n",
    "    return chunked_text[0]\n",
    "\n",
    "def chunk_text_front(text, chunk_size = 2048):\n",
    "    '''\n",
    "    get the first `trunk_size` token of text\n",
    "    '''\n",
    "    chunked_text = \"\"\n",
    "    tokens = num_tokens_from_string(text)\n",
    "    if tokens < chunk_size:\n",
    "        return text\n",
    "    else:\n",
    "        ratio = float(chunk_size) / tokens\n",
    "        char_num = int(len(text) * ratio)\n",
    "        return text[:char_num]\n",
    "\n",
    "def chunk_texts(text, chunk_size = 2048):\n",
    "    '''\n",
    "    trunk the text into n parts, return a list of text\n",
    "    [text, text, text]\n",
    "    '''\n",
    "    tokens = num_tokens_from_string(text)\n",
    "    if tokens < chunk_size:\n",
    "        return [text]\n",
    "    else:\n",
    "        texts = []\n",
    "        n = int(tokens/chunk_size) + 1\n",
    "        # 计算每个部分的长度\n",
    "        part_length = len(text) // n\n",
    "        # 如果不能整除，则最后一个部分会包含额外的字符\n",
    "        extra = len(text) % n\n",
    "        parts = []\n",
    "        start = 0\n",
    "\n",
    "        for i in range(n):\n",
    "            # 对于前extra个部分，每个部分多分配一个字符\n",
    "            end = start + part_length + (1 if i < extra else 0)\n",
    "            parts.append(text[start:end])\n",
    "            start = end\n",
    "        return parts"
   ]
  },
  {
   "cell_type": "code",
   "execution_count": 74,
   "metadata": {
    "id": "4HBQ5onEn_m-"
   },
   "outputs": [],
   "source": [
    "# RAT Pipeline\n",
    "\n",
    "from datetime import datetime\n",
    "anthropic_system_prompt = f'''\n",
    "You are an AI assistant called Claude, created by Anthropic. The current date is {datetime.now().strftime('%Y-%m-%d')}.\n",
    "Claude's knowledge base was last updated on August 2023. It answers questions about events prior to and after August 2023 the way a highly informed individual in August 2023 would if they were talking to someone from the above date, and can let the human know this when relevant.\n",
    "It should give concise responses to very simple questions, but provide thorough responses to more complex and open-ended questions.\n",
    "If it is asked to assist with tasks involving the expression of views held by a significant number of people, Claude provides assistance with the task even if it personally disagrees with the views being expressed, but follows this with a discussion of broader perspectives.\n",
    "Claude doesn't engage in stereotyping, including the negative stereotyping of majority groups.\n",
    "If asked about controversial topics, Claude tries to provide careful thoughts and objective information without downplaying its harmful content or implying that there are reasonable perspectives on both sides.\n",
    "It is happy to help with writing, analysis, question answering, math, coding, and all sorts of other tasks. It uses markdown for coding.\n",
    "It does not mention this information about itself unless the information is directly pertinent to the human's query.\n",
    "'''\n",
    "\n",
    "def get_draft(question):\n",
    "    # Getting the draft answer\n",
    "    draft_prompt = '''\n",
    "IMPORTANT:\n",
    "Try to answer this question/instruction with step-by-step thoughts and make the answer more structured.\n",
    "Use `\\n\\n` to split the answer into several paragraphs.\n",
    "Just respond to the instruction directly. DO NOT add additional explanations or text in the answer unless you are asked to.\n",
    "'''\n",
    "    messages=[{\"role\": \"user\", \"content\": f\"{question}\" + draft_prompt}]\n",
    "\n",
    "    body = json.dumps(\n",
    "        {\n",
    "            \"max_tokens\": max_tokens,\n",
    "            \"temperature\": temperature,\n",
    "            \"top_k\": top_k,\n",
    "            \"top_p\": top_p,\n",
    "            \"anthropic_version\": anthropic_version,\n",
    "            \"system\": anthropic_system_prompt,\n",
    "            \"messages\":  messages,\n",
    "        })\n",
    "    \n",
    "    response = bedrock.invoke_model(body=body, modelId=model_id, accept=accept, contentType=contentType)\n",
    "    response_body = json.loads(response.get('body').read())\n",
    "    return response_body['content'][0]['text']\n",
    "\n",
    "def split_draft(draft, split_char = '\\n\\n'):\n",
    "    # 将draft切分为多个段落\n",
    "    # split_char: '\\n\\n'\n",
    "    draft_paragraphs = draft.split(split_char)\n",
    "    # print(f\"The draft answer has {len(draft_paragraphs)}\")\n",
    "    return draft_paragraphs\n",
    "\n",
    "def get_query(question, answer):\n",
    "    query_prompt = '''\n",
    "I want to verify the content correctness of the given question, especially the last sentences.\n",
    "Please summarize the content with the corresponding question.\n",
    "This summarization will be used as a query to given to a search engine.\n",
    "The query should be short but needs to be specific to make sure the search engine can find related knowledge or web pages.\n",
    "You can also use search syntax to make the query short and clear enough for the search engine to find relevant language data.\n",
    "Try to make the query as relevant as possible to the last few sentences in the content.\n",
    "**IMPORTANT**\n",
    "Just output the query directly. DO NOT add additional explanations or text in the answer unless you are asked to.\n",
    "'''\n",
    "    messages=[{\"role\": \"user\",\"content\": f\"##Question: {question}\\n\\n##Content: {answer}\\n\\n##Instruction: {query_prompt}\"}]\n",
    "\n",
    "    body = json.dumps(\n",
    "        {\n",
    "            \"max_tokens\": max_tokens,\n",
    "            \"temperature\": temperature,\n",
    "            \"top_k\": top_k,\n",
    "            \"top_p\": top_p,\n",
    "            \"anthropic_version\": anthropic_version,\n",
    "            \"system\": anthropic_system_prompt,\n",
    "            \"messages\":  messages,\n",
    "        })\n",
    "\n",
    "    response = bedrock.invoke_model(body=body, modelId=model_id, accept=accept, contentType=contentType)\n",
    "    response_body = json.loads(response.get('body').read())\n",
    "    return response_body['content'][0]['text']\n",
    "\n",
    "\n",
    "def get_content(query):\n",
    "    res = get_search(query, 1)\n",
    "    if not res:\n",
    "        print(\">>> No good search result was found\")\n",
    "        return None\n",
    "    search_results = res[0]\n",
    "    href = search_results['href'] # title, snippet\n",
    "    res = get_page_content(href)\n",
    "    if not res:\n",
    "        print(f\">>> No content was found in {href}\")\n",
    "        return None\n",
    "    retrieved_text = res\n",
    "    trunked_texts = chunk_texts(retrieved_text, 1500)\n",
    "    trunked_texts = [trunked_text.replace('\\n', \" \") for trunked_text in trunked_texts]\n",
    "    if trunked_texts: print(f\"Funcióno bien para query: {query}\")\n",
    "    return trunked_texts\n",
    "\n",
    "def get_revise_answer(question, answer, content):\n",
    "    revise_prompt = '''\n",
    "I want to revise the answer according to retrieved related text of the question in WIKI pages.\n",
    "You need to check whether the answer is correct.\n",
    "If you find some errors in the answer, revise the answer to make it better.\n",
    "If you find some necessary details are ignored, add it to make the answer more plausible according to the related text.\n",
    "If you find the answer is right and do not need to add more details, just output the original answer directly.\n",
    "**IMPORTANT**\n",
    "Try to keep the structure (multiple paragraphs with its subtitles) in the revised answer and make it more structured to improve understanding.\n",
    "Split the paragraphs with `\\n\\n` characters.\n",
    "Just output the revised answer directly. DO NOT add additional explanations or text in the revised answer unless you are asked to.\n",
    "'''\n",
    "    messages=[{\"role\": \"user\", \"content\": f\"##Existing Text in Wiki Web: {content}\\n\\n##Question: {question}\\n\\n##Answer: {answer}\\n\\n##Instruction: {revise_prompt}\"}]\n",
    "\n",
    "    body = json.dumps(\n",
    "        {\n",
    "            \"max_tokens\": max_tokens,\n",
    "            \"temperature\": temperature,\n",
    "            \"top_k\": top_k,\n",
    "            \"top_p\": top_p,\n",
    "            \"anthropic_version\": anthropic_version,\n",
    "            \"system\": anthropic_system_prompt,\n",
    "            \"messages\":  messages,\n",
    "        })\n",
    "\n",
    "    response = bedrock.invoke_model(body=body, modelId=model_id, accept=accept, contentType=contentType)\n",
    "    response_body = json.loads(response.get('body').read())\n",
    "    return response_body['content'][0]['text']\n",
    "\n",
    "def get_reflect_answer(question, answer):\n",
    "    reflect_prompt = '''\n",
    "Give a title for the answer of the question.\n",
    "And add a subtitle to each paragraph in the answer and output the final answer using markdown format. \n",
    "This will make the answer to this question look more structured for better understanding.\n",
    "**IMPORTANT**\n",
    "Try to keep the structure (multiple paragraphs with its subtitles) in the response and make it more structured for understanding.\n",
    "Split the paragraphs with \\n\\n characters.\n",
    "Just output the revised answer directly. DO NOT add additional explanations or text in the revised answer unless you are asked to.\n",
    "'''\n",
    "    messages=[{\"role\": \"user\", \"content\": f\"##Question:\\n{question}\\n\\n##Answer:\\n{answer}\\n\\n##Instruction:\\n{reflect_prompt}\"}]\n",
    "\n",
    "    body = json.dumps(\n",
    "        {\n",
    "            \"max_tokens\": max_tokens,\n",
    "            \"temperature\": temperature,\n",
    "            \"top_k\": top_k,\n",
    "            \"top_p\": top_p,\n",
    "            \"anthropic_version\": anthropic_version,\n",
    "            \"system\": anthropic_system_prompt,\n",
    "            \"messages\":  messages,\n",
    "        })\n",
    "\n",
    "    response = bedrock.invoke_model(body=body, modelId=model_id, accept=accept, contentType=contentType)\n",
    "    response_body = json.loads(response.get('body').read())\n",
    "    return response_body['content'][0]['text']"
   ]
  },
  {
   "cell_type": "code",
   "execution_count": 52,
   "metadata": {
    "tags": []
   },
   "outputs": [],
   "source": [
    "query=\"ricardo fort empresario negocios inmobiliarios productos belleza\""
   ]
  },
  {
   "cell_type": "code",
   "execution_count": 75,
   "metadata": {
    "id": "yW1yp-BQQUxp"
   },
   "outputs": [],
   "source": [
    "def get_query_wrapper(q, question, answer):\n",
    "    result = get_query(question, answer)\n",
    "    q.put(result)  # pone el resultado en la cola\n",
    "\n",
    "def get_content_wrapper(q, query):\n",
    "    result = get_content(query)\n",
    "    print(result)\n",
    "    q.put(result)  # pone el resultado en la cola\n",
    "\n",
    "def get_revise_answer_wrapper(q, question, answer, content):\n",
    "    result = get_revise_answer(question, answer, content)\n",
    "    q.put(result)\n",
    "\n",
    "def get_reflect_answer_wrapper(q, question, answer):\n",
    "    result = get_reflect_answer(question, answer)\n",
    "    q.put(result)\n",
    "    \n",
    "# from multiprocessing import Process, Queue\n",
    "# def run_with_timeout(func, timeout, *args, **kwargs):\n",
    "#     q = Queue()  # 创建一个Queue对象用于进程间通信\n",
    "#     # 创建一个进程来执行传入的函数，将Queue和其他*args、**kwargs作为参数传递\n",
    "#     p = Process(target=func, args=(q, *args), kwargs=kwargs)\n",
    "#     p.start()\n",
    "#     # 等待进程完成或超时\n",
    "#     p.join(timeout)\n",
    "#     if p.is_alive():\n",
    "#         print(f\"{datetime.now()} [INFO] 函数{str(func)}执行已超时({timeout}s)，正在终止进程...\")\n",
    "#         p.terminate()  # 终止进程\n",
    "#         p.join()  # 确保进程已经终止\n",
    "#         result = None  # 超时情况下，我们没有结果\n",
    "#     else:\n",
    "#         print(f\"{datetime.now()} [INFO] 函数{str(func)}执行成功完成\")\n",
    "#         result = q.get()  # 从队列中获取结果\n",
    "#     return result\n",
    "\n",
    "from multiprocessing import Process, Queue\n",
    "from datetime import datetime\n",
    "\n",
    "def run_with_timeout(func, timeout, *args, **kwargs):\n",
    "    q = Queue()  # crea un objeto Queue para la comunicación entre procesos\n",
    "    p = Process(target=func, args=(q, *args), kwargs=kwargs)\n",
    "    p.start()\n",
    "    p.join(timeout)\n",
    "    if p.is_alive():\n",
    "        # Log con timestamp más claro y explicación del timeout\n",
    "        print(f\"{datetime.now()} - [INFO] Timeout: La función {func.__name__} excedió el tiempo de {timeout}s.\")\n",
    "        p.terminate()\n",
    "        p.join()\n",
    "        return {'error': 'timeout', 'detail': f'Function {func.__name__} exceeded {timeout} seconds.'}\n",
    "    else:\n",
    "        # Log de éxito\n",
    "        print(f\"{datetime.now()} - [INFO] La función {func.__name__} completó su ejecución exitosamente.\")\n",
    "        if not q.empty():\n",
    "            return q.get()\n",
    "        else:\n",
    "            # Manejo en caso de que la cola esté vacía (indicaría otro tipo de problema)\n",
    "            return {'error': 'empty_queue', 'detail': 'No result was returned from the process.'}"
   ]
  },
  {
   "cell_type": "code",
   "execution_count": 69,
   "metadata": {},
   "outputs": [],
   "source": [
    "from difflib import unified_diff\n",
    "from IPython.display import display, HTML\n",
    "\n",
    "def generate_diff_html(text1, text2):\n",
    "    diff = unified_diff(text1.splitlines(keepends=True),\n",
    "                        text2.splitlines(keepends=True),\n",
    "                        fromfile='text1', tofile='text2')\n",
    "\n",
    "    diff_html = \"\"\n",
    "    for line in diff:\n",
    "        if line.startswith('+'):\n",
    "            diff_html += f\"<div style='color:green;'>{line.rstrip()}</div>\"\n",
    "        elif line.startswith('-'):\n",
    "            diff_html += f\"<div style='color:red;'>{line.rstrip()}</div>\"\n",
    "        elif line.startswith('@'):\n",
    "            diff_html += f\"<div style='color:blue;'>{line.rstrip()}</div>\"\n",
    "        else:\n",
    "            diff_html += f\"{line.rstrip()}<br>\"\n",
    "    return diff_html"
   ]
  },
  {
   "cell_type": "code",
   "execution_count": 88,
   "metadata": {
    "id": "jE3Y78zfoLRc"
   },
   "outputs": [],
   "source": [
    "# RAT Function\n",
    "newline_char = '\\n'\n",
    "\n",
    "def rat(question):\n",
    "    print(f\"{datetime.now()} [INFO] Te estoy armando un borrador con Claude3 ...\")\n",
    "    draft = get_draft(question)\n",
    "    print(f\"--------------------- Borrador ---------------------\")\n",
    "    print(draft)\n",
    "    print(f\"---------------------  Fin  ------------------------\")\n",
    "\n",
    "    print(f\"{datetime.now()} [INFO] Procesando el borrador ...\")\n",
    "    draft_paragraphs = split_draft(draft)\n",
    "    print(f\"{datetime.now()} [INFO] Te lo dividí en {len(draft_paragraphs)} partes.\")\n",
    "    answer = \"\"\n",
    "    for i, p in enumerate(draft_paragraphs):\n",
    "        print(str(\"-\")*80)\n",
    "        print(f\"{datetime.now()} [INFO] Vamos a revisar la parte [{i+1}/{len(draft_paragraphs)}] ...\")\n",
    "        answer = answer + '\\n\\n' + p\n",
    "        print(f\"[{i}/{len(draft_paragraphs)}] Respuesta original:\\n{answer.replace(newline_char, ' ')}\")\n",
    "\n",
    "        # query = get_query(question, answer)\n",
    "        print(f\"{datetime.now()} [INFO] Generamos una 'query` que vamos a usar para buscar después ...\")\n",
    "        res = run_with_timeout(get_query_wrapper, 30, question, answer)\n",
    "        if not res:\n",
    "            print(f\"{datetime.now()} [INFO] Hay un timeout, vamos a saltearlo ...\")\n",
    "            continue\n",
    "        else:\n",
    "            query = res\n",
    "        print(f\">>> {i}/{len(draft_paragraphs)} Query: {query.replace(newline_char, ' ')}\")\n",
    "\n",
    "        print(f\"{datetime.now()} [INFO] Arrancamos a crawlear las páginas ...\")\n",
    "        # content = get_content(query)\n",
    "        res = run_with_timeout(get_content_wrapper, 30, query)\n",
    "        if not res:\n",
    "            print(f\"{datetime.now()} [INFO] Hay un timeout, vamos a saltearlo ...\")\n",
    "            continue\n",
    "        else:\n",
    "            content = res\n",
    "\n",
    "        LIMIT = 2\n",
    "        for j, c in enumerate(content):\n",
    "            if  j >= LIMIT: # limit large number of network pages\n",
    "                break\n",
    "            print(f\"{datetime.now()} [INFO] Revisamos las respuestas contra las páginas ...[{j}/{min(len(content),LIMIT)}]\")\n",
    "            # answer = get_revise_answer(question, answer, c)\n",
    "            res = run_with_timeout(get_revise_answer_wrapper, 30, question, answer, c)\n",
    "            if not res:\n",
    "                print(f\"{datetime.now()} [INFO] Hay un timeout, vamos a saltearlo ...\")\n",
    "                continue\n",
    "            else:\n",
    "                diff_html = generate_diff_html(answer, res)\n",
    "                display(HTML(diff_html))\n",
    "                answer = res\n",
    "            print(f\"{datetime.now()} [INFO] Respuesta revisada: [{j}/{min(len(content),3)}]\")\n",
    "        print(f\"[{i}/{len(draft_paragraphs)}] RESPUESTA REVISADA:\\n {answer.replace(newline_char, ' ')}\")\n",
    "    res = run_with_timeout(get_reflect_answer_wrapper, 30, question, answer)\n",
    "    if not res:\n",
    "        print(f\"{datetime.now()} [INFO] Hay un timeout, vamos a saltearlo ...\")\n",
    "    else:\n",
    "        answer = res\n",
    "    return draft, answer"
   ]
  },
  {
   "cell_type": "code",
   "execution_count": null,
   "metadata": {
    "colab": {
     "base_uri": "https://localhost:8080/"
    },
    "id": "vr7TsTHUes7k",
    "outputId": "41bff12a-c2d1-45b0-d15f-eccdfe572b7e"
   },
   "outputs": [
    {
     "name": "stdout",
     "output_type": "stream",
     "text": [
      "2024-04-11 17:44:24.659440 [INFO] Te estoy armando un borrador con Claude3 ...\n",
      "--------------------- Borrador ---------------------\n",
      "Aquí están mis pensamientos paso a paso sobre la vida de Ricardo Fort:\n",
      "\n",
      "`Ricardo Fort fue un empresario, productor de televisión y celebridad argentina muy conocida. Nació en 1968 en Buenos Aires, Argentina.\n",
      "\n",
      "Fort se hizo famoso por su participación en varios reality shows y programas de televisión, donde mostraba su extravagante estilo de vida y personalidad excéntrica. Fue conocido por su amor por las cirugías plásticas y su obsesión por mantener una apariencia joven.\n",
      "\n",
      "A principios de la década de 2000, Fort fundó su propia productora de televisión y produjo varios programas exitosos. También incursionó en los negocios inmobiliarios y la venta de productos de belleza.\n",
      "\n",
      "Lamentablemente, Ricardo Fort falleció en 2013 a la edad de 45 años debido a una insuficiencia cardíaca y otras complicaciones de salud. Dejó atrás a sus dos hijos gemelos y un legado como una de las figuras más polémicas y excéntricas de la televisión argentina.`\n",
      "---------------------  Fin  ------------------------\n",
      "2024-04-11 17:44:33.837852 [INFO] Procesando el borrador ...\n",
      "2024-04-11 17:44:33.837880 [INFO] Te lo dividí en 5 partes.\n",
      "--------------------------------------------------------------------------------\n",
      "2024-04-11 17:44:33.837897 [INFO] Vamos a revisar la parte [1/5] ...\n",
      "[0/5] Respuesta original:\n",
      "  Aquí están mis pensamientos paso a paso sobre la vida de Ricardo Fort:\n",
      "2024-04-11 17:44:33.837913 [INFO] Generamos una 'query` que vamos a usar para buscar después ...\n",
      "2024-04-11 17:44:37.000718 - [INFO] La función get_query_wrapper completó su ejecución exitosamente.\n",
      ">>> 0/5 Query: \"Ricardo Fort\" \"vida\" \"controversias\"\n",
      "2024-04-11 17:44:37.001748 [INFO] Arrancamos a crawlear las páginas ...\n",
      "2024-04-11 17:45:07.031320 - [INFO] Timeout: La función get_content_wrapper excedió el tiempo de 30s.\n",
      "2024-04-11 17:45:07.035918 [INFO] Revisamos las respuestas contra las páginas ...[0/2]\n",
      "2024-04-11 17:45:17.374293 - [INFO] La función get_revise_answer_wrapper completó su ejecución exitosamente.\n"
     ]
    },
    {
     "data": {
      "text/html": [
       "<div style='color:red;'>--- text1</div><div style='color:green;'>+++ text2</div><div style='color:blue;'>@@ -1,3 +1,19 @@</div><div style='color:green;'>+Biografía</div><br><div style='color:green;'>+Ricardo Fort nació el 23 de noviembre de 1968 en Venado Tuerto, provincia de Santa Fe, Argentina. Fue un empresario, productor de televisión y celebridad mediática argentina.</div><br><div style='color:red;'>-Aquí están mis pensamientos paso a paso sobre la vida de Ricardo Fort:</div><div style='color:green;'>+Inicios y carrera empresarial</div><div style='color:green;'>+</div><div style='color:green;'>+Fort se inició en el mundo de los negocios a temprana edad, trabajando en la empresa familiar dedicada a la venta de artículos de limpieza. Posteriormente, se mudó a Buenos Aires y fundó su propia empresa de limpieza llamada \"Ricardo Fort S.A.\", la cual se convirtió en un éxito comercial.</div><div style='color:green;'>+</div><div style='color:green;'>+Fama mediática</div><div style='color:green;'>+</div><div style='color:green;'>+A principios de la década de 2000, Fort comenzó a aparecer en programas de televisión, donde se destacó por su personalidad extravagante y su estilo de vida ostentoso. Su fama creció rápidamente, convirtiéndose en un personaje polémico y controversial.</div><div style='color:green;'>+</div><div style='color:green;'>+Vida personal</div><div style='color:green;'>+</div><div style='color:green;'>+Fort se casó en dos ocasiones, primero con Gustavo Martínez y luego con Marisa Bello. Tuvo dos hijos, Felipito y Martita, fruto de su relación con Marisa Bello. Su vida personal estuvo marcada por la polémica y los escándalos mediáticos.</div><div style='color:green;'>+</div><div style='color:green;'>+Fallecimiento</div><div style='color:green;'>+</div><div style='color:green;'>+Ricardo Fort falleció el 25 de noviembre de 2013 a los 45 años de edad, debido a una complicación derivada de una intervención quirúrgica. Su muerte conmocionó al mundo del espectáculo argentino y generó una gran cobertura mediática.</div>"
      ],
      "text/plain": [
       "<IPython.core.display.HTML object>"
      ]
     },
     "metadata": {},
     "output_type": "display_data"
    },
    {
     "name": "stdout",
     "output_type": "stream",
     "text": [
      "2024-04-11 17:45:17.378051 [INFO] Respuesta revisada: [0/2]\n",
      "2024-04-11 17:45:17.378108 [INFO] Revisamos las respuestas contra las páginas ...[1/2]\n",
      "2024-04-11 17:45:25.580455 - [INFO] La función get_revise_answer_wrapper completó su ejecución exitosamente.\n"
     ]
    },
    {
     "data": {
      "text/html": [
       "<div style='color:red;'>--- text1</div><div style='color:green;'>+++ text2</div><div style='color:blue;'>@@ -1,19 +1,17 @@</div> Biografía<br><br><div style='color:red;'>-Ricardo Fort nació el 23 de noviembre de 1968 en Venado Tuerto, provincia de Santa Fe, Argentina. Fue un empresario, productor de televisión y celebridad mediática argentina.</div><div style='color:green;'>+Inicios y primeros años</div><br><div style='color:red;'>-Inicios y carrera empresarial</div><div style='color:green;'>+Ricardo Fort nació el 23 de noviembre de 1968 en Venado Tuerto, provincia de Santa Fe, Argentina. Desde muy joven, se involucró en los negocios familiares dedicados a la venta de artículos de limpieza.</div><br><div style='color:red;'>-Fort se inició en el mundo de los negocios a temprana edad, trabajando en la empresa familiar dedicada a la venta de artículos de limpieza. Posteriormente, se mudó a Buenos Aires y fundó su propia empresa de limpieza llamada \"Ricardo Fort S.A.\", la cual se convirtió en un éxito comercial.</div><div style='color:green;'>+Carrera empresarial y fama mediática</div><br><div style='color:red;'>-Fama mediática</div><div style='color:green;'>+En la década de 1990, Fort se mudó a Buenos Aires y fundó su propia empresa de limpieza llamada \"Ricardo Fort S.A.\", la cual se convirtió en un éxito comercial. A principios de la década de 2000, comenzó a aparecer en programas de televisión, donde se destacó por su personalidad extravagante y su estilo de vida ostentoso. Su fama creció rápidamente, convirtiéndose en un personaje polémico y controversial en el mundo del espectáculo argentino.</div><br><div style='color:red;'>-A principios de la década de 2000, Fort comenzó a aparecer en programas de televisión, donde se destacó por su personalidad extravagante y su estilo de vida ostentoso. Su fama creció rápidamente, convirtiéndose en un personaje polémico y controversial.</div><div style='color:red;'>-</div><div style='color:red;'>-Vida personal</div><div style='color:green;'>+Vida personal y familia</div><br> Fort se casó en dos ocasiones, primero con Gustavo Martínez y luego con Marisa Bello. Tuvo dos hijos, Felipito y Martita, fruto de su relación con Marisa Bello. Su vida personal estuvo marcada por la polémica y los escándalos mediáticos.<br><br> Fallecimiento<br><br><div style='color:red;'>-Ricardo Fort falleció el 25 de noviembre de 2013 a los 45 años de edad, debido a una complicación derivada de una intervención quirúrgica. Su muerte conmocionó al mundo del espectáculo argentino y generó una gran cobertura mediática.</div><div style='color:green;'>+Lamentablemente, Ricardo Fort falleció el 25 de noviembre de 2013 a los 45 años de edad, debido a una complicación derivada de una intervención quirúrgica. Su muerte conmocionó al mundo del espectáculo argentino y generó una gran cobertura mediática.</div>"
      ],
      "text/plain": [
       "<IPython.core.display.HTML object>"
      ]
     },
     "metadata": {},
     "output_type": "display_data"
    },
    {
     "name": "stdout",
     "output_type": "stream",
     "text": [
      "2024-04-11 17:45:25.583738 [INFO] Respuesta revisada: [1/2]\n",
      "[0/5] RESPUESTA REVISADA:\n",
      " Biografía  Inicios y primeros años  Ricardo Fort nació el 23 de noviembre de 1968 en Venado Tuerto, provincia de Santa Fe, Argentina. Desde muy joven, se involucró en los negocios familiares dedicados a la venta de artículos de limpieza.  Carrera empresarial y fama mediática  En la década de 1990, Fort se mudó a Buenos Aires y fundó su propia empresa de limpieza llamada \"Ricardo Fort S.A.\", la cual se convirtió en un éxito comercial. A principios de la década de 2000, comenzó a aparecer en programas de televisión, donde se destacó por su personalidad extravagante y su estilo de vida ostentoso. Su fama creció rápidamente, convirtiéndose en un personaje polémico y controversial en el mundo del espectáculo argentino.  Vida personal y familia  Fort se casó en dos ocasiones, primero con Gustavo Martínez y luego con Marisa Bello. Tuvo dos hijos, Felipito y Martita, fruto de su relación con Marisa Bello. Su vida personal estuvo marcada por la polémica y los escándalos mediáticos.  Fallecimiento  Lamentablemente, Ricardo Fort falleció el 25 de noviembre de 2013 a los 45 años de edad, debido a una complicación derivada de una intervención quirúrgica. Su muerte conmocionó al mundo del espectáculo argentino y generó una gran cobertura mediática.\n",
      "--------------------------------------------------------------------------------\n",
      "2024-04-11 17:45:25.583823 [INFO] Vamos a revisar la parte [2/5] ...\n",
      "[1/5] Respuesta original:\n",
      "Biografía  Inicios y primeros años  Ricardo Fort nació el 23 de noviembre de 1968 en Venado Tuerto, provincia de Santa Fe, Argentina. Desde muy joven, se involucró en los negocios familiares dedicados a la venta de artículos de limpieza.  Carrera empresarial y fama mediática  En la década de 1990, Fort se mudó a Buenos Aires y fundó su propia empresa de limpieza llamada \"Ricardo Fort S.A.\", la cual se convirtió en un éxito comercial. A principios de la década de 2000, comenzó a aparecer en programas de televisión, donde se destacó por su personalidad extravagante y su estilo de vida ostentoso. Su fama creció rápidamente, convirtiéndose en un personaje polémico y controversial en el mundo del espectáculo argentino.  Vida personal y familia  Fort se casó en dos ocasiones, primero con Gustavo Martínez y luego con Marisa Bello. Tuvo dos hijos, Felipito y Martita, fruto de su relación con Marisa Bello. Su vida personal estuvo marcada por la polémica y los escándalos mediáticos.  Fallecimiento  Lamentablemente, Ricardo Fort falleció el 25 de noviembre de 2013 a los 45 años de edad, debido a una complicación derivada de una intervención quirúrgica. Su muerte conmocionó al mundo del espectáculo argentino y generó una gran cobertura mediática.  `Ricardo Fort fue un empresario, productor de televisión y celebridad argentina muy conocida. Nació en 1968 en Buenos Aires, Argentina.\n",
      "2024-04-11 17:45:25.583857 [INFO] Generamos una 'query` que vamos a usar para buscar después ...\n",
      "2024-04-11 17:45:26.946801 - [INFO] La función get_query_wrapper completó su ejecución exitosamente.\n",
      ">>> 1/5 Query: \"Ricardo Fort\" \"lugar de nacimiento\" \"fecha de fallecimiento\"\n",
      "2024-04-11 17:45:26.947810 [INFO] Arrancamos a crawlear las páginas ...\n",
      "2024-04-11 17:45:56.975577 - [INFO] Timeout: La función get_content_wrapper excedió el tiempo de 30s.\n",
      "2024-04-11 17:45:56.980280 [INFO] Revisamos las respuestas contra las páginas ...[0/2]\n",
      "2024-04-11 17:46:04.461520 - [INFO] La función get_revise_answer_wrapper completó su ejecución exitosamente.\n"
     ]
    },
    {
     "data": {
      "text/html": [
       "<div style='color:red;'>--- text1</div><div style='color:green;'>+++ text2</div><div style='color:blue;'>@@ -14,6 +14,4 @@</div><br> Fallecimiento<br><br><div style='color:red;'>-Lamentablemente, Ricardo Fort falleció el 25 de noviembre de 2013 a los 45 años de edad, debido a una complicación derivada de una intervención quirúrgica. Su muerte conmocionó al mundo del espectáculo argentino y generó una gran cobertura mediática.</div><div style='color:red;'>-</div><div style='color:red;'>-`Ricardo Fort fue un empresario, productor de televisión y celebridad argentina muy conocida. Nació en 1968 en Buenos Aires, Argentina.</div><div style='color:green;'>+Ricardo Fort falleció el 25 de noviembre de 2013 a los 45 años de edad en Buenos Aires, Argentina, debido a una complicación derivada de una intervención quirúrgica. Su muerte conmocionó al mundo del espectáculo argentino y generó una gran cobertura mediática.</div>"
      ],
      "text/plain": [
       "<IPython.core.display.HTML object>"
      ]
     },
     "metadata": {},
     "output_type": "display_data"
    },
    {
     "name": "stdout",
     "output_type": "stream",
     "text": [
      "2024-04-11 17:46:04.464796 [INFO] Respuesta revisada: [0/2]\n",
      "2024-04-11 17:46:04.464848 [INFO] Revisamos las respuestas contra las páginas ...[1/2]\n",
      "2024-04-11 17:46:16.423677 - [INFO] La función get_revise_answer_wrapper completó su ejecución exitosamente.\n"
     ]
    },
    {
     "data": {
      "text/html": [
       "<div style='color:red;'>--- text1</div><div style='color:green;'>+++ text2</div><div style='color:blue;'>@@ -2,16 +2,16 @@</div><br> Inicios y primeros años<br><br><div style='color:red;'>-Ricardo Fort nació el 23 de noviembre de 1968 en Venado Tuerto, provincia de Santa Fe, Argentina. Desde muy joven, se involucró en los negocios familiares dedicados a la venta de artículos de limpieza.</div><div style='color:green;'>+Ricardo Fort nació el 5 de noviembre de 1968 en Venado Tuerto, provincia de Santa Fe, Argentina. Desde muy joven, se involucró en los negocios familiares dedicados a la venta de artículos de limpieza y productos de tocador.</div><br> Carrera empresarial y fama mediática<br><br><div style='color:red;'>-En la década de 1990, Fort se mudó a Buenos Aires y fundó su propia empresa de limpieza llamada \"Ricardo Fort S.A.\", la cual se convirtió en un éxito comercial. A principios de la década de 2000, comenzó a aparecer en programas de televisión, donde se destacó por su personalidad extravagante y su estilo de vida ostentoso. Su fama creció rápidamente, convirtiéndose en un personaje polémico y controversial en el mundo del espectáculo argentino.</div><div style='color:green;'>+En la década de 1990, Fort se mudó a Buenos Aires y fundó su propia empresa de limpieza llamada \"Ricardo Fort S.A.\", la cual se convirtió en un éxito comercial. A principios de la década de 2000, comenzó a aparecer en programas de televisión, donde se destacó por su personalidad extravagante, su estilo de vida ostentoso y su gusto por las cirugías estéticas. Su fama creció rápidamente, convirtiéndose en un personaje polémico y controversial en el mundo del espectáculo argentino.</div><br> Vida personal y familia<br><br><div style='color:red;'>-Fort se casó en dos ocasiones, primero con Gustavo Martínez y luego con Marisa Bello. Tuvo dos hijos, Felipito y Martita, fruto de su relación con Marisa Bello. Su vida personal estuvo marcada por la polémica y los escándalos mediáticos.</div><div style='color:green;'>+Fort se casó en dos ocasiones, primero con Gustavo Martínez y luego con Marisa Bello. Tuvo dos hijos, Felipito y Martita, fruto de su relación con Marisa Bello. Su vida personal estuvo marcada por la polémica, los escándalos mediáticos y su gusto por las cirugías estéticas.</div><br> Fallecimiento<br><br><div style='color:red;'>-Ricardo Fort falleció el 25 de noviembre de 2013 a los 45 años de edad en Buenos Aires, Argentina, debido a una complicación derivada de una intervención quirúrgica. Su muerte conmocionó al mundo del espectáculo argentino y generó una gran cobertura mediática.</div><div style='color:green;'>+Ricardo Fort falleció el 25 de noviembre de 2013 a los 45 años de edad en Buenos Aires, Argentina, debido a una complicación derivada de una intervención quirúrgica de una cirugía de reducción de estómago. Su muerte conmocionó al mundo del espectáculo argentino y generó una gran cobertura mediática.</div>"
      ],
      "text/plain": [
       "<IPython.core.display.HTML object>"
      ]
     },
     "metadata": {},
     "output_type": "display_data"
    },
    {
     "name": "stdout",
     "output_type": "stream",
     "text": [
      "2024-04-11 17:46:16.427044 [INFO] Respuesta revisada: [1/2]\n",
      "[1/5] RESPUESTA REVISADA:\n",
      " Biografía  Inicios y primeros años  Ricardo Fort nació el 5 de noviembre de 1968 en Venado Tuerto, provincia de Santa Fe, Argentina. Desde muy joven, se involucró en los negocios familiares dedicados a la venta de artículos de limpieza y productos de tocador.  Carrera empresarial y fama mediática  En la década de 1990, Fort se mudó a Buenos Aires y fundó su propia empresa de limpieza llamada \"Ricardo Fort S.A.\", la cual se convirtió en un éxito comercial. A principios de la década de 2000, comenzó a aparecer en programas de televisión, donde se destacó por su personalidad extravagante, su estilo de vida ostentoso y su gusto por las cirugías estéticas. Su fama creció rápidamente, convirtiéndose en un personaje polémico y controversial en el mundo del espectáculo argentino.  Vida personal y familia  Fort se casó en dos ocasiones, primero con Gustavo Martínez y luego con Marisa Bello. Tuvo dos hijos, Felipito y Martita, fruto de su relación con Marisa Bello. Su vida personal estuvo marcada por la polémica, los escándalos mediáticos y su gusto por las cirugías estéticas.  Fallecimiento  Ricardo Fort falleció el 25 de noviembre de 2013 a los 45 años de edad en Buenos Aires, Argentina, debido a una complicación derivada de una intervención quirúrgica de una cirugía de reducción de estómago. Su muerte conmocionó al mundo del espectáculo argentino y generó una gran cobertura mediática.\n",
      "--------------------------------------------------------------------------------\n",
      "2024-04-11 17:46:16.427132 [INFO] Vamos a revisar la parte [3/5] ...\n",
      "[2/5] Respuesta original:\n",
      "Biografía  Inicios y primeros años  Ricardo Fort nació el 5 de noviembre de 1968 en Venado Tuerto, provincia de Santa Fe, Argentina. Desde muy joven, se involucró en los negocios familiares dedicados a la venta de artículos de limpieza y productos de tocador.  Carrera empresarial y fama mediática  En la década de 1990, Fort se mudó a Buenos Aires y fundó su propia empresa de limpieza llamada \"Ricardo Fort S.A.\", la cual se convirtió en un éxito comercial. A principios de la década de 2000, comenzó a aparecer en programas de televisión, donde se destacó por su personalidad extravagante, su estilo de vida ostentoso y su gusto por las cirugías estéticas. Su fama creció rápidamente, convirtiéndose en un personaje polémico y controversial en el mundo del espectáculo argentino.  Vida personal y familia  Fort se casó en dos ocasiones, primero con Gustavo Martínez y luego con Marisa Bello. Tuvo dos hijos, Felipito y Martita, fruto de su relación con Marisa Bello. Su vida personal estuvo marcada por la polémica, los escándalos mediáticos y su gusto por las cirugías estéticas.  Fallecimiento  Ricardo Fort falleció el 25 de noviembre de 2013 a los 45 años de edad en Buenos Aires, Argentina, debido a una complicación derivada de una intervención quirúrgica de una cirugía de reducción de estómago. Su muerte conmocionó al mundo del espectáculo argentino y generó una gran cobertura mediática.  Fort se hizo famoso por su participación en varios reality shows y programas de televisión, donde mostraba su extravagante estilo de vida y personalidad excéntrica. Fue conocido por su amor por las cirugías plásticas y su obsesión por mantener una apariencia joven.\n",
      "2024-04-11 17:46:16.427164 [INFO] Generamos una 'query` que vamos a usar para buscar después ...\n",
      "2024-04-11 17:46:18.886481 - [INFO] La función get_query_wrapper completó su ejecución exitosamente.\n",
      ">>> 2/5 Query: ricardo fort cirugías plásticas obsesión apariencia joven\n",
      "2024-04-11 17:46:18.887454 [INFO] Arrancamos a crawlear las páginas ...\n",
      "2024-04-11 17:46:48.922183 - [INFO] Timeout: La función get_content_wrapper excedió el tiempo de 30s.\n",
      "2024-04-11 17:46:48.926988 [INFO] Revisamos las respuestas contra las páginas ...[0/2]\n",
      "2024-04-11 17:46:57.678670 - [INFO] La función get_revise_answer_wrapper completó su ejecución exitosamente.\n"
     ]
    },
    {
     "data": {
      "text/html": [
       "<div style='color:red;'>--- text1</div><div style='color:green;'>+++ text2</div><div style='color:blue;'>@@ -6,14 +6,12 @@</div><br> Carrera empresarial y fama mediática<br><br><div style='color:red;'>-En la década de 1990, Fort se mudó a Buenos Aires y fundó su propia empresa de limpieza llamada \"Ricardo Fort S.A.\", la cual se convirtió en un éxito comercial. A principios de la década de 2000, comenzó a aparecer en programas de televisión, donde se destacó por su personalidad extravagante, su estilo de vida ostentoso y su gusto por las cirugías estéticas. Su fama creció rápidamente, convirtiéndose en un personaje polémico y controversial en el mundo del espectáculo argentino.</div><div style='color:green;'>+En la década de 1990, Fort se mudó a Buenos Aires y fundó su propia empresa de limpieza llamada \"Ricardo Fort S.A.\", la cual se convirtió en un éxito comercial. A principios de la década de 2000, comenzó a aparecer en programas de televisión, donde se destacó por su personalidad extravagante, su estilo de vida ostentoso y su gusto por las cirugías estéticas. Su fama creció rápidamente, convirtiéndose en un personaje polémico y controversial en el mundo del espectáculo argentino. Participó en varios reality shows y programas de televisión, donde mostraba su extravagante estilo de vida y personalidad excéntrica.</div><br> Vida personal y familia<br><br><div style='color:red;'>-Fort se casó en dos ocasiones, primero con Gustavo Martínez y luego con Marisa Bello. Tuvo dos hijos, Felipito y Martita, fruto de su relación con Marisa Bello. Su vida personal estuvo marcada por la polémica, los escándalos mediáticos y su gusto por las cirugías estéticas.</div><div style='color:green;'>+Fort se casó en dos ocasiones, primero con Gustavo Martínez y luego con Marisa Bello. Tuvo dos hijos, Felipito y Martita, fruto de su relación con Marisa Bello. Su vida personal estuvo marcada por la polémica, los escándalos mediáticos y su gusto por las cirugías estéticas. Fue conocido por su amor por las cirugías plásticas y su obsesión por mantener una apariencia joven.</div><br> Fallecimiento<br><br><div style='color:red;'>-Ricardo Fort falleció el 25 de noviembre de 2013 a los 45 años de edad en Buenos Aires, Argentina, debido a una complicación derivada de una intervención quirúrgica de una cirugía de reducción de estómago. Su muerte conmocionó al mundo del espectáculo argentino y generó una gran cobertura mediática.</div><div style='color:red;'>-</div><div style='color:red;'>-Fort se hizo famoso por su participación en varios reality shows y programas de televisión, donde mostraba su extravagante estilo de vida y personalidad excéntrica. Fue conocido por su amor por las cirugías plásticas y su obsesión por mantener una apariencia joven.</div><div style='color:green;'>+Ricardo Fort falleció el 25 de noviembre de 2013 a los 45 años de edad en Buenos Aires, Argentina, debido a una complicación derivada de una intervención quirúrgica de una cirugía de reducción de estómago. Su muerte conmocionó al mundo del espectáculo argentino y generó una gran cobertura mediática.</div>"
      ],
      "text/plain": [
       "<IPython.core.display.HTML object>"
      ]
     },
     "metadata": {},
     "output_type": "display_data"
    },
    {
     "name": "stdout",
     "output_type": "stream",
     "text": [
      "2024-04-11 17:46:57.682196 [INFO] Respuesta revisada: [0/2]\n",
      "2024-04-11 17:46:57.682246 [INFO] Revisamos las respuestas contra las páginas ...[1/2]\n",
      "2024-04-11 17:47:05.518723 - [INFO] La función get_revise_answer_wrapper completó su ejecución exitosamente.\n"
     ]
    },
    {
     "data": {
      "text/html": [],
      "text/plain": [
       "<IPython.core.display.HTML object>"
      ]
     },
     "metadata": {},
     "output_type": "display_data"
    },
    {
     "name": "stdout",
     "output_type": "stream",
     "text": [
      "2024-04-11 17:47:05.521873 [INFO] Respuesta revisada: [1/2]\n",
      "[2/5] RESPUESTA REVISADA:\n",
      " Biografía  Inicios y primeros años  Ricardo Fort nació el 5 de noviembre de 1968 en Venado Tuerto, provincia de Santa Fe, Argentina. Desde muy joven, se involucró en los negocios familiares dedicados a la venta de artículos de limpieza y productos de tocador.  Carrera empresarial y fama mediática  En la década de 1990, Fort se mudó a Buenos Aires y fundó su propia empresa de limpieza llamada \"Ricardo Fort S.A.\", la cual se convirtió en un éxito comercial. A principios de la década de 2000, comenzó a aparecer en programas de televisión, donde se destacó por su personalidad extravagante, su estilo de vida ostentoso y su gusto por las cirugías estéticas. Su fama creció rápidamente, convirtiéndose en un personaje polémico y controversial en el mundo del espectáculo argentino. Participó en varios reality shows y programas de televisión, donde mostraba su extravagante estilo de vida y personalidad excéntrica.  Vida personal y familia  Fort se casó en dos ocasiones, primero con Gustavo Martínez y luego con Marisa Bello. Tuvo dos hijos, Felipito y Martita, fruto de su relación con Marisa Bello. Su vida personal estuvo marcada por la polémica, los escándalos mediáticos y su gusto por las cirugías estéticas. Fue conocido por su amor por las cirugías plásticas y su obsesión por mantener una apariencia joven.  Fallecimiento  Ricardo Fort falleció el 25 de noviembre de 2013 a los 45 años de edad en Buenos Aires, Argentina, debido a una complicación derivada de una intervención quirúrgica de una cirugía de reducción de estómago. Su muerte conmocionó al mundo del espectáculo argentino y generó una gran cobertura mediática.\n",
      "--------------------------------------------------------------------------------\n",
      "2024-04-11 17:47:05.521974 [INFO] Vamos a revisar la parte [4/5] ...\n",
      "[3/5] Respuesta original:\n",
      "Biografía  Inicios y primeros años  Ricardo Fort nació el 5 de noviembre de 1968 en Venado Tuerto, provincia de Santa Fe, Argentina. Desde muy joven, se involucró en los negocios familiares dedicados a la venta de artículos de limpieza y productos de tocador.  Carrera empresarial y fama mediática  En la década de 1990, Fort se mudó a Buenos Aires y fundó su propia empresa de limpieza llamada \"Ricardo Fort S.A.\", la cual se convirtió en un éxito comercial. A principios de la década de 2000, comenzó a aparecer en programas de televisión, donde se destacó por su personalidad extravagante, su estilo de vida ostentoso y su gusto por las cirugías estéticas. Su fama creció rápidamente, convirtiéndose en un personaje polémico y controversial en el mundo del espectáculo argentino. Participó en varios reality shows y programas de televisión, donde mostraba su extravagante estilo de vida y personalidad excéntrica.  Vida personal y familia  Fort se casó en dos ocasiones, primero con Gustavo Martínez y luego con Marisa Bello. Tuvo dos hijos, Felipito y Martita, fruto de su relación con Marisa Bello. Su vida personal estuvo marcada por la polémica, los escándalos mediáticos y su gusto por las cirugías estéticas. Fue conocido por su amor por las cirugías plásticas y su obsesión por mantener una apariencia joven.  Fallecimiento  Ricardo Fort falleció el 25 de noviembre de 2013 a los 45 años de edad en Buenos Aires, Argentina, debido a una complicación derivada de una intervención quirúrgica de una cirugía de reducción de estómago. Su muerte conmocionó al mundo del espectáculo argentino y generó una gran cobertura mediática.  A principios de la década de 2000, Fort fundó su propia productora de televisión y produjo varios programas exitosos. También incursionó en los negocios inmobiliarios y la venta de productos de belleza.\n",
      "2024-04-11 17:47:05.522009 [INFO] Generamos una 'query` que vamos a usar para buscar después ...\n",
      "2024-04-11 17:47:12.745515 - [INFO] La función get_query_wrapper completó su ejecución exitosamente.\n",
      ">>> 3/5 Query: ricardo fort empresas negocios productora televisión programas exitosos negocios inmobiliarios venta productos belleza\n",
      "2024-04-11 17:47:12.746519 [INFO] Arrancamos a crawlear las páginas ...\n",
      "2024-04-11 17:47:42.761835 - [INFO] Timeout: La función get_content_wrapper excedió el tiempo de 30s.\n",
      "2024-04-11 17:47:42.766542 [INFO] Revisamos las respuestas contra las páginas ...[0/2]\n",
      "2024-04-11 17:47:51.872939 - [INFO] La función get_revise_answer_wrapper completó su ejecución exitosamente.\n"
     ]
    },
    {
     "data": {
      "text/html": [
       "<div style='color:red;'>--- text1</div><div style='color:green;'>+++ text2</div><div style='color:blue;'>@@ -8,12 +8,12 @@</div><br> En la década de 1990, Fort se mudó a Buenos Aires y fundó su propia empresa de limpieza llamada \"Ricardo Fort S.A.\", la cual se convirtió en un éxito comercial. A principios de la década de 2000, comenzó a aparecer en programas de televisión, donde se destacó por su personalidad extravagante, su estilo de vida ostentoso y su gusto por las cirugías estéticas. Su fama creció rápidamente, convirtiéndose en un personaje polémico y controversial en el mundo del espectáculo argentino. Participó en varios reality shows y programas de televisión, donde mostraba su extravagante estilo de vida y personalidad excéntrica.<br><br><div style='color:green;'>+A principios de la década de 2000, Fort fundó su propia productora de televisión y produjo varios programas exitosos. También incursionó en los negocios inmobiliarios y la venta de productos de belleza.</div><div style='color:green;'>+</div> Vida personal y familia<br><br> Fort se casó en dos ocasiones, primero con Gustavo Martínez y luego con Marisa Bello. Tuvo dos hijos, Felipito y Martita, fruto de su relación con Marisa Bello. Su vida personal estuvo marcada por la polémica, los escándalos mediáticos y su gusto por las cirugías estéticas. Fue conocido por su amor por las cirugías plásticas y su obsesión por mantener una apariencia joven.<br><br> Fallecimiento<br><br><div style='color:red;'>-Ricardo Fort falleció el 25 de noviembre de 2013 a los 45 años de edad en Buenos Aires, Argentina, debido a una complicación derivada de una intervención quirúrgica de una cirugía de reducción de estómago. Su muerte conmocionó al mundo del espectáculo argentino y generó una gran cobertura mediática.</div><div style='color:red;'>-</div><div style='color:red;'>-A principios de la década de 2000, Fort fundó su propia productora de televisión y produjo varios programas exitosos. También incursionó en los negocios inmobiliarios y la venta de productos de belleza.</div><div style='color:green;'>+Ricardo Fort falleció el 25 de noviembre de 2013 a los 45 años de edad en Buenos Aires, Argentina, debido a una complicación derivada de una intervención quirúrgica de una cirugía de reducción de estómago. Su muerte conmocionó al mundo del espectáculo argentino y generó una gran cobertura mediática.</div>"
      ],
      "text/plain": [
       "<IPython.core.display.HTML object>"
      ]
     },
     "metadata": {},
     "output_type": "display_data"
    },
    {
     "name": "stdout",
     "output_type": "stream",
     "text": [
      "2024-04-11 17:47:51.876463 [INFO] Respuesta revisada: [0/2]\n",
      "2024-04-11 17:47:51.876513 [INFO] Revisamos las respuestas contra las páginas ...[1/2]\n",
      "2024-04-11 17:48:04.003869 - [INFO] La función get_revise_answer_wrapper completó su ejecución exitosamente.\n"
     ]
    },
    {
     "data": {
      "text/html": [
       "<div style='color:red;'>--- text1</div><div style='color:green;'>+++ text2</div><div style='color:blue;'>@@ -6,9 +6,11 @@</div><br> Carrera empresarial y fama mediática<br><br><div style='color:red;'>-En la década de 1990, Fort se mudó a Buenos Aires y fundó su propia empresa de limpieza llamada \"Ricardo Fort S.A.\", la cual se convirtió en un éxito comercial. A principios de la década de 2000, comenzó a aparecer en programas de televisión, donde se destacó por su personalidad extravagante, su estilo de vida ostentoso y su gusto por las cirugías estéticas. Su fama creció rápidamente, convirtiéndose en un personaje polémico y controversial en el mundo del espectáculo argentino. Participó en varios reality shows y programas de televisión, donde mostraba su extravagante estilo de vida y personalidad excéntrica.</div><div style='color:green;'>+En la década de 1990, Fort se mudó a Buenos Aires y fundó su propia empresa de limpieza llamada \"Ricardo Fort S.A.\", la cual se convirtió en un éxito comercial. A principios de la década de 2000, comenzó a aparecer en programas de televisión, donde se destacó por su personalidad extravagante, su estilo de vida ostentoso y su gusto por las cirugías estéticas. Su fama creció rápidamente, convirtiéndose en un personaje polémico y controversial en el mundo del espectáculo argentino. Participó en varios reality shows y programas de televisión, donde mostraba su extravagante estilo de vida y personalidad excéntrica. A mediados de la década de 2000, Fort fundó su propia productora de televisión, Filosofía Producciones, y produjo varios programas exitosos.</div><br><div style='color:red;'>-A principios de la década de 2000, Fort fundó su propia productora de televisión y produjo varios programas exitosos. También incursionó en los negocios inmobiliarios y la venta de productos de belleza.</div><div style='color:green;'>+Negocios y emprendimientos</div><div style='color:green;'>+</div><div style='color:green;'>+Además de su empresa de limpieza y su productora de televisión, Fort incursionó en los negocios inmobiliarios y la venta de productos de belleza. Lanzó su propia línea de cosméticos llamada \"Ricardo Fort Cosmetics\".</div><br> Vida personal y familia<br><br>"
      ],
      "text/plain": [
       "<IPython.core.display.HTML object>"
      ]
     },
     "metadata": {},
     "output_type": "display_data"
    },
    {
     "name": "stdout",
     "output_type": "stream",
     "text": [
      "2024-04-11 17:48:04.007389 [INFO] Respuesta revisada: [1/2]\n",
      "[3/5] RESPUESTA REVISADA:\n",
      " Biografía  Inicios y primeros años  Ricardo Fort nació el 5 de noviembre de 1968 en Venado Tuerto, provincia de Santa Fe, Argentina. Desde muy joven, se involucró en los negocios familiares dedicados a la venta de artículos de limpieza y productos de tocador.  Carrera empresarial y fama mediática  En la década de 1990, Fort se mudó a Buenos Aires y fundó su propia empresa de limpieza llamada \"Ricardo Fort S.A.\", la cual se convirtió en un éxito comercial. A principios de la década de 2000, comenzó a aparecer en programas de televisión, donde se destacó por su personalidad extravagante, su estilo de vida ostentoso y su gusto por las cirugías estéticas. Su fama creció rápidamente, convirtiéndose en un personaje polémico y controversial en el mundo del espectáculo argentino. Participó en varios reality shows y programas de televisión, donde mostraba su extravagante estilo de vida y personalidad excéntrica. A mediados de la década de 2000, Fort fundó su propia productora de televisión, Filosofía Producciones, y produjo varios programas exitosos.  Negocios y emprendimientos  Además de su empresa de limpieza y su productora de televisión, Fort incursionó en los negocios inmobiliarios y la venta de productos de belleza. Lanzó su propia línea de cosméticos llamada \"Ricardo Fort Cosmetics\".  Vida personal y familia  Fort se casó en dos ocasiones, primero con Gustavo Martínez y luego con Marisa Bello. Tuvo dos hijos, Felipito y Martita, fruto de su relación con Marisa Bello. Su vida personal estuvo marcada por la polémica, los escándalos mediáticos y su gusto por las cirugías estéticas. Fue conocido por su amor por las cirugías plásticas y su obsesión por mantener una apariencia joven.  Fallecimiento  Ricardo Fort falleció el 25 de noviembre de 2013 a los 45 años de edad en Buenos Aires, Argentina, debido a una complicación derivada de una intervención quirúrgica de una cirugía de reducción de estómago. Su muerte conmocionó al mundo del espectáculo argentino y generó una gran cobertura mediática.\n",
      "--------------------------------------------------------------------------------\n",
      "2024-04-11 17:48:04.007474 [INFO] Vamos a revisar la parte [5/5] ...\n",
      "[4/5] Respuesta original:\n",
      "Biografía  Inicios y primeros años  Ricardo Fort nació el 5 de noviembre de 1968 en Venado Tuerto, provincia de Santa Fe, Argentina. Desde muy joven, se involucró en los negocios familiares dedicados a la venta de artículos de limpieza y productos de tocador.  Carrera empresarial y fama mediática  En la década de 1990, Fort se mudó a Buenos Aires y fundó su propia empresa de limpieza llamada \"Ricardo Fort S.A.\", la cual se convirtió en un éxito comercial. A principios de la década de 2000, comenzó a aparecer en programas de televisión, donde se destacó por su personalidad extravagante, su estilo de vida ostentoso y su gusto por las cirugías estéticas. Su fama creció rápidamente, convirtiéndose en un personaje polémico y controversial en el mundo del espectáculo argentino. Participó en varios reality shows y programas de televisión, donde mostraba su extravagante estilo de vida y personalidad excéntrica. A mediados de la década de 2000, Fort fundó su propia productora de televisión, Filosofía Producciones, y produjo varios programas exitosos.  Negocios y emprendimientos  Además de su empresa de limpieza y su productora de televisión, Fort incursionó en los negocios inmobiliarios y la venta de productos de belleza. Lanzó su propia línea de cosméticos llamada \"Ricardo Fort Cosmetics\".  Vida personal y familia  Fort se casó en dos ocasiones, primero con Gustavo Martínez y luego con Marisa Bello. Tuvo dos hijos, Felipito y Martita, fruto de su relación con Marisa Bello. Su vida personal estuvo marcada por la polémica, los escándalos mediáticos y su gusto por las cirugías estéticas. Fue conocido por su amor por las cirugías plásticas y su obsesión por mantener una apariencia joven.  Fallecimiento  Ricardo Fort falleció el 25 de noviembre de 2013 a los 45 años de edad en Buenos Aires, Argentina, debido a una complicación derivada de una intervención quirúrgica de una cirugía de reducción de estómago. Su muerte conmocionó al mundo del espectáculo argentino y generó una gran cobertura mediática.  Lamentablemente, Ricardo Fort falleció en 2013 a la edad de 45 años debido a una insuficiencia cardíaca y otras complicaciones de salud. Dejó atrás a sus dos hijos gemelos y un legado como una de las figuras más polémicas y excéntricas de la televisión argentina.`\n",
      "2024-04-11 17:48:04.007507 [INFO] Generamos una 'query` que vamos a usar para buscar después ...\n",
      "2024-04-11 17:48:05.478812 - [INFO] La función get_query_wrapper completó su ejecución exitosamente.\n",
      ">>> 4/5 Query: \"Ricardo Fort\" muerte edad complicaciones cirugía reducción estómago\n",
      "2024-04-11 17:48:05.479927 [INFO] Arrancamos a crawlear las páginas ...\n",
      "2024-04-11 17:48:35.514988 - [INFO] Timeout: La función get_content_wrapper excedió el tiempo de 30s.\n",
      "2024-04-11 17:48:35.519615 [INFO] Revisamos las respuestas contra las páginas ...[0/2]\n",
      "2024-04-11 17:48:45.840642 - [INFO] La función get_revise_answer_wrapper completó su ejecución exitosamente.\n"
     ]
    },
    {
     "data": {
      "text/html": [
       "<div style='color:red;'>--- text1</div><div style='color:green;'>+++ text2</div><div style='color:blue;'>@@ -6,18 +6,16 @@</div><br> Carrera empresarial y fama mediática<br><br><div style='color:red;'>-En la década de 1990, Fort se mudó a Buenos Aires y fundó su propia empresa de limpieza llamada \"Ricardo Fort S.A.\", la cual se convirtió en un éxito comercial. A principios de la década de 2000, comenzó a aparecer en programas de televisión, donde se destacó por su personalidad extravagante, su estilo de vida ostentoso y su gusto por las cirugías estéticas. Su fama creció rápidamente, convirtiéndose en un personaje polémico y controversial en el mundo del espectáculo argentino. Participó en varios reality shows y programas de televisión, donde mostraba su extravagante estilo de vida y personalidad excéntrica. A mediados de la década de 2000, Fort fundó su propia productora de televisión, Filosofía Producciones, y produjo varios programas exitosos.</div><div style='color:green;'>+En la década de 1990, Fort se mudó a Buenos Aires y fundó su propia empresa de limpieza llamada \"Ricardo Fort S.A.\", la cual se convirtió en un éxito comercial. A principios de la década de 2000, comenzó a aparecer en programas de televisión, donde se destacó por su personalidad extravagante, su estilo de vida ostentoso y su gusto por las cirugías estéticas. Su fama creció rápidamente, convirtiéndose en un personaje polémico y controversial en el mundo del espectáculo argentino. Participó en varios reality shows y programas de televisión, donde mostraba su extravagante estilo de vida y personalidad excéntrica.</div><br> Negocios y emprendimientos<br><br><div style='color:red;'>-Además de su empresa de limpieza y su productora de televisión, Fort incursionó en los negocios inmobiliarios y la venta de productos de belleza. Lanzó su propia línea de cosméticos llamada \"Ricardo Fort Cosmetics\".</div><div style='color:green;'>+A mediados de la década de 2000, Fort fundó su propia productora de televisión, Filosofía Producciones, y produjo varios programas exitosos. Además de su empresa de limpieza y su productora de televisión, Fort incursionó en los negocios inmobiliarios y la venta de productos de belleza. Lanzó su propia línea de cosméticos llamada \"Ricardo Fort Cosmetics\".</div><br> Vida personal y familia<br><br><div style='color:red;'>-Fort se casó en dos ocasiones, primero con Gustavo Martínez y luego con Marisa Bello. Tuvo dos hijos, Felipito y Martita, fruto de su relación con Marisa Bello. Su vida personal estuvo marcada por la polémica, los escándalos mediáticos y su gusto por las cirugías estéticas. Fue conocido por su amor por las cirugías plásticas y su obsesión por mantener una apariencia joven.</div><div style='color:green;'>+Fort se casó en dos ocasiones, primero con Gustavo Martínez y luego con Marisa Bello. Tuvo dos hijos gemelos, Felipito y Martita, fruto de su relación con Marisa Bello. Su vida personal estuvo marcada por la polémica, los escándalos mediáticos y su gusto por las cirugías estéticas. Fue conocido por su amor por las cirugías plásticas y su obsesión por mantener una apariencia joven.</div><br> Fallecimiento<br><br><div style='color:red;'>-Ricardo Fort falleció el 25 de noviembre de 2013 a los 45 años de edad en Buenos Aires, Argentina, debido a una complicación derivada de una intervención quirúrgica de una cirugía de reducción de estómago. Su muerte conmocionó al mundo del espectáculo argentino y generó una gran cobertura mediática.</div><div style='color:red;'>-</div><div style='color:red;'>-Lamentablemente, Ricardo Fort falleció en 2013 a la edad de 45 años debido a una insuficiencia cardíaca y otras complicaciones de salud. Dejó atrás a sus dos hijos gemelos y un legado como una de las figuras más polémicas y excéntricas de la televisión argentina.`</div><div style='color:green;'>+Ricardo Fort falleció el 25 de noviembre de 2013 a los 45 años de edad en Buenos Aires, Argentina, debido a una insuficiencia cardíaca y otras complicaciones derivadas de una cirugía de reducción de estómago. Su muerte conmocionó al mundo del espectáculo argentino y generó una gran cobertura mediática.</div>"
      ],
      "text/plain": [
       "<IPython.core.display.HTML object>"
      ]
     },
     "metadata": {},
     "output_type": "display_data"
    },
    {
     "name": "stdout",
     "output_type": "stream",
     "text": [
      "2024-04-11 17:48:45.844433 [INFO] Respuesta revisada: [0/2]\n",
      "2024-04-11 17:48:45.844484 [INFO] Revisamos las respuestas contra las páginas ...[1/2]\n",
      "2024-04-11 17:48:55.738995 - [INFO] La función get_revise_answer_wrapper completó su ejecución exitosamente.\n"
     ]
    },
    {
     "data": {
      "text/html": [],
      "text/plain": [
       "<IPython.core.display.HTML object>"
      ]
     },
     "metadata": {},
     "output_type": "display_data"
    },
    {
     "name": "stdout",
     "output_type": "stream",
     "text": [
      "2024-04-11 17:48:55.742298 [INFO] Respuesta revisada: [1/2]\n",
      "[4/5] RESPUESTA REVISADA:\n",
      " Biografía  Inicios y primeros años  Ricardo Fort nació el 5 de noviembre de 1968 en Venado Tuerto, provincia de Santa Fe, Argentina. Desde muy joven, se involucró en los negocios familiares dedicados a la venta de artículos de limpieza y productos de tocador.  Carrera empresarial y fama mediática  En la década de 1990, Fort se mudó a Buenos Aires y fundó su propia empresa de limpieza llamada \"Ricardo Fort S.A.\", la cual se convirtió en un éxito comercial. A principios de la década de 2000, comenzó a aparecer en programas de televisión, donde se destacó por su personalidad extravagante, su estilo de vida ostentoso y su gusto por las cirugías estéticas. Su fama creció rápidamente, convirtiéndose en un personaje polémico y controversial en el mundo del espectáculo argentino. Participó en varios reality shows y programas de televisión, donde mostraba su extravagante estilo de vida y personalidad excéntrica.  Negocios y emprendimientos  A mediados de la década de 2000, Fort fundó su propia productora de televisión, Filosofía Producciones, y produjo varios programas exitosos. Además de su empresa de limpieza y su productora de televisión, Fort incursionó en los negocios inmobiliarios y la venta de productos de belleza. Lanzó su propia línea de cosméticos llamada \"Ricardo Fort Cosmetics\".  Vida personal y familia  Fort se casó en dos ocasiones, primero con Gustavo Martínez y luego con Marisa Bello. Tuvo dos hijos gemelos, Felipito y Martita, fruto de su relación con Marisa Bello. Su vida personal estuvo marcada por la polémica, los escándalos mediáticos y su gusto por las cirugías estéticas. Fue conocido por su amor por las cirugías plásticas y su obsesión por mantener una apariencia joven.  Fallecimiento  Ricardo Fort falleció el 25 de noviembre de 2013 a los 45 años de edad en Buenos Aires, Argentina, debido a una insuficiencia cardíaca y otras complicaciones derivadas de una cirugía de reducción de estómago. Su muerte conmocionó al mundo del espectáculo argentino y generó una gran cobertura mediática.\n"
     ]
    }
   ],
   "source": [
    "draft, answer = rat(\"Contame de la vida de Ricardo Fort\")"
   ]
  },
  {
   "cell_type": "code",
   "execution_count": 12,
   "metadata": {},
   "outputs": [
    {
     "data": {
      "text/html": [
       "<div style='color:red;'>--- text1</div><div style='color:green;'>+++ text2</div><div style='color:blue;'>@@ -1,3 +1,5 @@</div><div style='color:green;'>+</div><div style='color:green;'>+</div> Aquí están mis pensamientos paso a paso sobre la vida de Ricardo Fort:<br><br> `Ricardo Fort fue un empresario, productor de televisión y celebridad argentina muy conocida. Nació en 1968 en Buenos Aires, Argentina.<br>"
      ],
      "text/plain": [
       "<IPython.core.display.HTML object>"
      ]
     },
     "metadata": {},
     "output_type": "display_data"
    }
   ],
   "source": [
    "diff_html = generate_diff_html(draft, answer)\n",
    "display(HTML(diff_html))"
   ]
  },
  {
   "cell_type": "markdown",
   "metadata": {},
   "source": [
    "---"
   ]
  },
  {
   "cell_type": "code",
   "execution_count": 68,
   "metadata": {
    "tags": []
   },
   "outputs": [
    {
     "name": "stdout",
     "output_type": "stream",
     "text": [
      "2024-04-11 17:26:11.956560 [INFO] 函数<function get_content_wrapper at 0x7fe5b43a1b40>执行已超时(5s)，正在终止进程...\n"
     ]
    }
   ],
   "source": [
    "run_with_timeout(get_content_wrapper, 5, query)"
   ]
  },
  {
   "cell_type": "code",
   "execution_count": 57,
   "metadata": {
    "tags": []
   },
   "outputs": [
    {
     "name": "stderr",
     "output_type": "stream",
     "text": [
      "Fetching pages: 100%|##########| 1/1 [00:00<00:00, 10.71it/s]\n"
     ]
    },
    {
     "name": "stdout",
     "output_type": "stream",
     "text": [
      "Funcióno bien para query: ricardo fort empresario negocios inmobiliarios productos belleza\n"
     ]
    },
    {
     "data": {
      "text/plain": [
       "['Ir al contenido  Menú principal  Menú principal  mover a la barra lateral ocultar  Navegación    * Portada   * Portal de la comunidad   * Actualidad   * Cambios recientes   * Páginas nuevas   * Página aleatoria   * Ayuda   * Donaciones   * Notificar un error  Buscar  Buscar    * Crear una cuenta   * Acceder  Herramientas personales    * Crear una cuenta   * Acceder  Páginas para editores desconectados más información    * Contribuciones   * Discusión  ## Contenidos  mover a la barra lateral ocultar    * Inicio    * 1Primeros años    * 2Empresario  Alternar subsección Empresario      * 2.1Felfort      * 2.2Ranking de la revista Forbes    * 3Carrera artística  Alternar subsección Carrera artística      * 3.1Televisión      * 3.2Teatro    * 4Vida privada    * 5Filmografía  Alternar subsección Filmografía      * 5.1Televisión      * 5.2Teatro        * 5.2.1Obra teatral en Broadway basada en su vida    * 6Fallecimiento  Alternar subsección Fallecimiento      * 6.1Repercusiones        * 6.1.1Tapas de diarios        * 6.1.2Tapas de revistas    * 7Críticas  Alternar subsección Críticas      * 7.1Personalidad      * 7.2Cualidades artísticas    * 8Referencias    * 9Enlaces externos  Cambiar a la tabla de contenidos  # Ricardo Fort  3 idiomas    * مصرى   * English   * Português  Editar enlaces    * Artículo   * Discusión  español    * Leer   * Editar   * Ver historial  Herramientas  Herramientas  mover a la barra lateral ocultar  Acciones    * Leer   * Editar   * Ver historial  General    * Lo que enlaza aquí   * Cambios en enlazadas   * Subir archivo   * Páginas especiales   * Enlace permanente   * Información de la página   * Citar esta página   * Obtener URL acortado   * Descargar código QR   * Elemento de Wikidata  Imprimir/exportar    * Crear un libro   * Descargar como PDF   * Versión para imprimir  En otros proyectos    * Wikimedia Commons  De Wikipedia, la enciclopedia libre  Ricardo Fort   ---      Fort en 2009.   Información personal   Nombre de nacimiento|  Ricardo Aníbal Fort   Apodo|  _Ricky Fort_    _El Comandante_   Nacimiento|  5 de noviembre de 1968   Buenos Aires (Argentina)   Fallecimiento|  25 de noviembre de 2013 (45 años)   Palermo (Argentina)   Causa de muerte|  Muerte súbita cardiaca   Sepultura|  Cementerio Memorial Jardín de la Paz   Nacionalidad|  Argentina   Religión|  Católico[1]\\u200b[2]\\u200b   Lengua materna|  Español   Familia   Padres|  Carlos Augusto Fort   Marta Campa de Fort   Pareja|  Gustavo Martínez   Violeta Lo Re (2009)   Virginia Gallardo (2009–2010)   Erika Mitdank (2010)   Claudia Ciardone (2010–2012)   Rodrigo Díaz (2012–2013)   Hijos|  Felipe Fort   Marta Fort   Familiares|  Felipe Fort (Abuelo paterno)   Eduardo Fort (Hermano)   Jorge Fort (Hermano)   Información profesional   Ocupación|  Empresario, filántropo, actor, cantante, y productor   Años activo|  1999-2013   Patrimonio|  11.2 millones de dólares.   Empresa|  Felfort   [editar datos en Wikidata]      **Ricardo Aníbal Fort** (Buenos Aires, 5 de noviembre de 1968-Palermo, Buenos Aires, 25 de noviembre de 2013), fue un cantante, actor, presentador de televisión, productor, empresario y mediático argentino. Con tan solo cuatro años de carrera, Fort fue una de las personalidades más famosas y populares de la televisión argentina.[3]\\u200b  ## Primeros años[editar]  Ricardo Fort nació el 5 de noviembre de 1968, en la ciudad de Buenos Aires, era hijo de la cantante Marta Campa de Fort (1934-2021),[4]\\u200b y del empresario Carlos Augusto Fort (1926-2007).  ## Empresario[editar]  Además de poseer parte de las acciones de la empresa Felfort, creó su propia marca: Fortmen, primeramente para la comercialización de ropa ―en un negocio que no tuvo éxito―,[5]\\u200b y posteriormente para una fragancia masculina: Fortmen by Ricardo Fort.[6]\\u200b  También editó una autobiografía en la que se describe su vida, escrita por Néstor Montenegro: _Ricardo Fort, historia de vida_.[7]\\u200b[8]\\u200b  ### Felfort[editar]  Como integrante de la empresa FelFort, a Ricardo Fort se le atribuye el haber introducido al mercado argentino, en 1997, las barritas de cereal, idea que copió de las que veía comercializarse en Miami (Estados Unidos), aunque adaptadas al gusto local. Felfort fue la primera compañía en lanzar el producto al mercado nacional, haciéndolo con el nombre comercial de CerealFort. En una entrevista él describió como fueron los hechos:  > Le cambié la imagen a la empresa. Todos los packagings los modernicé, todo > se hacía a mano y yo introduje la comput',\n",
       " \"adora. Me costó muchísimo, porque mi > padre era un tipo muy conservador. Cada cambio era una pelea: en las > reuniones de desarrollo estaba toda la gente de mi padre y yo, un pendejo de > 30, presentando las cosas. Me tiraban a matar. Pero el Feeling y el > CerealFort los creé yo. > > Ricardo Fort[9]\\u200b[10]\\u200b  Entre los productos que generaba la fábrica de la calle Gascón, cada día se fabricaban 215 000 barritas de cereales.[11]\\u200b  ### Ranking de la revista Forbes[editar]  Según la revista _Forbes_, teniendo en cuenta distintas variables (convocatoria, facturación, repercusión en redes sociales, etc.), Ricardo Fort era una de las personalidades con más influencia en el mercado del _show business_ (negocio del espectáculo) argentino, por contar con una importante fortuna, abundante presencia en Internet, casi medio millón de seguidores en Twitter y ser importante accionista de una de las empresas de golosinas más destacadas del país, lo que lo situaba entre el décimo[12]\\u200b y el primer lugar de la lista.[13]\\u200b  ## Carrera artística[editar]  Desoyendo el mandato familiar de dedicarse por completo a la empresa de la familia, Ricardo Fort eligió la carrera artística, teniendo la ambición de triunfar en el mundo del espectáculo como cantante. Al terminar la escuela secundaria viajó a Estados Unidos, donde vivió durante 15 años, primero en la ciudad de Los Ángeles y después se trasladó a Miami, donde se radicó. Allí intentó infructuosamente hacer carrera como cantante. Frustrado, regresó a la Argentina para trabajar en la empresa familiar, la fábrica de golosinas Felfort de la calle Gascón 329 en el barrio de Almagro, en Buenos Aires. Al poco tiempo regresó a Miami, donde tuvo a sus hijos. Posteriormente volvió a Buenos Aires.  ### Televisión[editar]  Al principio de su carrera, Fort lanzó un sencillo llamado _No volverás_. Presentando esta canción hizo su debut en la televisión argentina a fines de los años noventa, en el programa _Movete_ , que conducía Carmen Barbieri. En ese momento no logró despertar demasiado interés.  A fines de los 90's Fort intento lanzarse como cantante internacionalmente usando Miami como base. Luego de varios intentos fallidos en USA finalmente logró despertar el interés del animador y productor _Paul Bouche_ quien le dio la oportunidad de debutar ante el público de los Estados Unidos en el programa nocturno de variedades _A Oscuras Pero Encendidos_ de Astracanada Productions Inc. en el año 1998.  Años después, lograría en solo dos meses un ascenso de popularidad difícil de igualar por otro artista argentino. Mientras aún era un virtual desconocido, comenzó a despertar interés al vérselo en compañía de la artista Celina Rucci, quien estaba recién separada de su marido. Desde aquel momento comenzó una asidua participación en programas populares, como _Infama_ (de Santiago del Moro) o _Animales sueltos_ (de Alejandro Fantino). Sus visitas eran acompañadas por los videos de sus viajes por el mundo en compañía de sus amigos, los que colgaba en YouTube y conseguían repercusión viral a través de internet. Esto lo motivó a hacer su propio reality show: _Reality Fort_ , en las medianoches del canal América TV.  En noviembre de 2009 logró tener una participación en _El musical de tus sueños_ (por El Trece). Ese programa fue la variante correspondiente al año 2009 del programa televisivo _ShowMatch_ (de Marcelo Tinelli), el programa más exitoso de la televisión argentina de las últimas décadas. Allí Fort bailó haciendo un reemplazo, lo que le permitió ingresar formalmente al concurso de baile al ganar el repechaje del jueves 19 de noviembre de 2009, obteniendo el 55,8 % del total de los votos telefónicos del público para todas las parejas. Posteriormente, perdió la final contra la pareja que integraba Silvina Escudero.  Fort continuó siendo parte de otros ciclos de _Bailando por un sueño_ (del mismo programa _ShowMatch_), pero no como participante del baile sino ocupando el puesto de jurado, titular como en el caso de la edición de 2010,[14]\\u200b o como jurado de reemplazo, como en el caso de la edición de 2012.[15]\\u200b Su carácter le ganó enemistades.[16]\\u200b En la edición de 2011 Fort solo fue como visitante,[17]\\u200b ya que desistió por no estar de acuerdo con la elección de los participantes.[18]\\u200b  El 23 de junio de 2012 estrenó el programa _Fort Night Show_ , que él mismo conducía en la pantalla del canal América TV, un ciclo de entretenimientos y talk show, con musicales, invitados especiales, s\",\n",
       " \"ketches, juegos y premios, y acciones solidarias para su fundación. Sus panelistas fueron Marina Calabró, Lío Pecoraro, Vanesa Carbone, Stefanía Xipolitakis, Dominique Pestaña, Celeste Muriega y el periodista Fernando Prensa. Además tenía bailarines-ayudantes llamados «Los Ricardos» (así como Marcelo Tinelli tenía «Las Tinellis» y Susana Giménez tenía «Los Susanos»). Uno de «Los Ricardos» más famosos era el modelo Iván Orduña.  ### Teatro[editar]  De manera paralela a sus participaciones televisivas, y de alguna manera alimentadas por estas, desarrolló una carrera teatral, al ser el productor y cabeza de compañía de cuatro obras de teatro, en las que participó como actor y cantante: _Fortuna, una historia de vida_ ,[19]\\u200b _Fortuna 2, una revista musical_,[20]\\u200b _Mi novio, mi novia y yo_[21]\\u200b y _Fort con caviar_ , junto al Grupo Caviar.[22]\\u200b  ## Vida privada[editar]  Su familia es la heredera de la compañía La Delicia Felipe Fort S. A. ―conocida por su nombre comercial Felfort―, una empresa fabricante de chocolates y otras golosinas de las más importantes de la Argentina,[23]\\u200b fundada en Buenos Aires en el año 1912 por el abuelo de Ricardo, Felipe Fort (1899-1969), empresario catalán que radicó en Argentina con las corrientes migratorias de principios del siglo XX.  Fueron muy conflictivas las relaciones que tenía con sus hermanos (Jorge y Eduardo) y su padre Carlos, quien tomó el mando de la empresa en 1969, al morir su fundador, cuando Ricardo aún era un bebé. En cambio siempre fue afectuosa la relación con su madre.[24]\\u200b  Ricardo Fort fue padre de dos niños, los mellizos Felipe y Marta, nacidos el 25 de febrero de 2004 en Los Ángeles (California). Sus nombres fueron elegidos en honor al abuelo y a la madre de Ricardo, respectivamente. Ricardo y Gustavo adquirieron a sus hijos mediante gestación subrogada, un proceso que Fort realizó en el estado de California en los Estados Unidos de América ya que en Argentina es ilegal. Fort tuvo que escoger de un catálogo de mujeres cual se adecuaba más a lo que él quería como donante de ovúlos y como gestadora o arrendadora de útero. Se desconoce el importe de la compra.[25]\\u200b  Si bien se presentó con varias mujeres como parejas, en el año 2011 reconoció su bisexualidad.[26]\\u200bSu relación más importante fue con Gustavo Martínez ya que lo acompañó en la decisión de formar su familia con sus dos hijos,[27]\\u200b siendo además el padrino de estos. Gustavo Martínez se suicidó el 16 de febrero del 2022. Sus relaciones fueron con Violeta Lo Re en 2009, con Virginia Gallardo (la más relevante de todas) que duró un año hasta 2010, con Erika Mitdank en 2010 y en ese mismo año con Claudia Ciardone. Su última relación fue con Rodrigo Diaz, hasta el día de su fallecimiento.[28]\\u200b  Fort era católico.[29]\\u200b Durante su relación con Claudia Ciardone tuvo planeado casarse con ella solamente por Iglesia, asegurando que lo importante del matrimonio es la ceremonia religiosa, y no los contratos legales.[30]\\u200b  ## Filmografía[editar]  ### Televisión[editar]  Televisión   ---   Año  | Título  | Rol  | Canal    2009  | _Reality Fort_ | Conductor  | América TV   2009  | _El musical de tus sueños_ | Participante  | El Trece   2010  | _Bailando por un sueño 2010_ | Jurado  | El Trece   2012  | _Bailando por un sueño 2012_ | Jurado (suplente).  | El Trece   2012  | _Fort Night Show_ | Conductor  | América TV      ### Teatro[editar]  Obra   ---   Año  | Título    _2010_ | _Fortuna, una historia de vida_   _2011_ | _Fortuna 2, una revista musical_   _2012_ | _Mi novio, mi novia y yo_   _2013_ | _Fort con caviar_      #### Obra teatral en Broadway basada en su vida[editar]  En el año 2014 en Broadway se estrenó ''My Way'', una obra teatral basada en su vida encabezada por el actor Tony Rodríguez con aprobación de Gustavo Martínez, íntimo amigo de Ricardo Fort y quien tiene el cuidado de sus dos hijos mellizos desde su muerte.  El debut se llevó a cabo en el Roy Arias Studios & Theaters.  ## Fallecimiento[editar]  Mientras estaba internado desde el 21 de noviembre de 2013 en el Sanatorio de La Trinidad, institución del barrio de Palermo de Buenos Aires, para ser tratado por una fractura femoral (la cual había sufrido días atrás, en Miami),[31]\\u200b además de complicaciones de una lesión en su columna y otra en la rodilla, falleció debido a un paro cardíaco después de una masiva hemorragia en el estómago, a las 5 de la madrugada (hora local) del 25 de noviembre de 2013, a la edad de 45 años. El parte mé\",\n",
       " 'dico del deceso informó que:  > Se mantuvo clínicamente estable y súbitamente presentó un paro > cardiorrespiratorio asociado a una hemorragia masiva en el estómago que > produjo su deceso, pese a las maniobras de reanimación ejecutadas.[32]\\u200b  Sus restos solo tuvieron un responso en una sala velatoria de la avenida Córdoba 3677, de Buenos Aires y una misa católica, como íntima despedida familiar.[33]\\u200b Fue inhumado en el cementerio privado _Memorial Jardín de Paz_ , de la ciudad del Pilar, en las afueras de Buenos Aires. La decisión del círculo familiar de no realizar un velatorio abierto al público (como es lo habitual en los decesos de personajes populares argentinos), generó polémica entre sus seguidores y periodistas del espectáculo. A pesar de no poder entrar, igualmente cientos de personas se concentraron en la puerta de la sala velatoria para dejarle carteles, flores o darle una última despedida.[34]\\u200b Según había expresado en una entrevista, su deseo era que sus restos fuesen cremados y que sus cenizas fuesen arrojadas desde el obelisco de Buenos Aires.[35]\\u200b Sus dos hijos son los herederos directos de sus bienes ―estimados en unos USD 200 millones― de los que la mayor parte corresponden al 16,6 % de las acciones de la empresa Felfort.\"[36]\\u200b  ### Repercusiones[editar]  Si bien se estaba al tanto de lo delicado de su estado de salud, y que las 27 operaciones habían hecho mella en su organismo, haciéndolo frágil,[37]\\u200b su muerte tomó de sorpresa a los medios periodísticos. La noticia monopolizó la temática del día feriado, y la gran mayoría de los programas hicieron emisiones especiales en su recuerdo. Su deceso fue tapa de la mayoría de las revistas y los diarios de Argentina, Uruguay y Paraguay.  #### Tapas de diarios[editar]  Las portadas de los periódicos de las ediciones del 26 de noviembre de 2013 trataron el hecho de la siguiente manera:    * Diario _Popular_: «Fama, plata, y vida al límite» (la imagen del artista cubrió casi por completo la tapa del diario).[38]\\u200b   * Diario _Crónica_: «A los 45 años murió Ricardo Fort. Guerra por la herencia» (la imagen del artista cubrió casi por completo la tapa del diario).[39]\\u200b   * Diario _Clarín_: «Telón para una vida apurada».[40]\\u200b   * Diario _La Nación_: «Ricardo Fort. Un hombre excéntrico y mediático que murió como vivió».[41]\\u200b   * Diario _La Razón_: «Telón para la aventura de Fort».[42]\\u200b   * Diario _BAE Negocios_: «Murió Ricardo Fort, el millonario que eligió ser mediático».[43]\\u200b   * Diario _Muy_: «Se gastó la vida».[44]\\u200b   * Diario _Página/12_: «Ascenso y caída de un homo mediático».[45]\\u200b   * Diario _El Día_ (de La Plata): «La muerte de Ricardo Fort. El adiós a un hombre que vivió al límite».[46]\\u200b   * Diario _La Voz del Interior_ (de Córdoba): «Fort, el personaje que se autodestruyó».[47]\\u200b   * Diario _La Capital_ (de Rosario): «El excéntrico y mediático millonario Ricardo Fort murió de un paro cardíaco».[48]\\u200b   * Diario _Los Andes_ (de Mendoza): «Ricardo Fort, murió el millonario de la televisión».[49]\\u200b   * Diario _El Tribuno_ (de Salta): «Ricardo Fort, una vida en el centro de la escena».[50]\\u200b   * Diario _El País_ (de Montevideo): «La muerte de un extravagante. A los 45 años murió Ricardo Fort, el millonario argentino».[51]\\u200b   * Diario _La República_ (de Montevideo): «No tenía paz. 27 cirugías [sic] lo llevaron a la muerte».[52]\\u200b   * Diario _ABC Color_ (de Asunción) «Fallece el empresario argentino Ricardo Fort».[53]\\u200b   * Diario _Ultima Hora_ (de Asunción) «Murió el excéntrico y mediático Ricardo Fort».[54]\\u200b  #### Tapas de revistas[editar]  Su muerte ocupó también las portadas de las ediciones de algunos magazines publicados en los días siguientes a su muerte; en esas tapas, en las que la imagen del artista fue el fondo completo de la portada, se podía leer:    * Revista _Noticias_: «Investigación: quién mató a Ricardo Fort. El titán de la Argentina monstruosa» .[55]\\u200b[56]\\u200b   * Revista _Gente_: «El triste final de Ricardo Fort».[57]\\u200b   * Revista _Paparazzi_: «Muerte, dolor y millones en juego».[58]\\u200b   * Revista _Pronto_: «Las últimas horas de Ricardo Fort».[59]\\u200b   * Revista _Semanario_: «Se cansó de sufrir».[60]\\u200b   * Revista _El Sensacional_: «Una vida con dolor».[61]\\u200b   * Revista _Caras_: «Fort: el dolor y la herencia de sus hijos».[62]\\u200b  ## Críticas[editar]  Ricardo Fort ha sido criticado negativamente por una parte del periodismo, tanto en razón de su personalidad como por su trabajo.  ### Personalidad[editar]  Las reprobaciones a su cond',\n",
       " 'ucta refieren a que con sus actitudes transmitía un consumismo obsceno, una ostentación de bienes materiales y un derroche de dinero en un país donde una parte aún significativa de su población todavía se mantiene bajo los límites de la línea de pobreza. Este contraste extremo entre su modo de vida jactante de riqueza y la realidad de buena parte de sus conciudadanos, colateralmente generaba irritación y conflictos en la planta de trabajadores de su fábrica,[11]\\u200b[63]\\u200b lo que ahondaba la ríspida relación de Ricardo con sus hermanos ―los administradores de la empresa―, los que le exigían que guardara un perfil menos expuesto.  En un país donde los ricos suelen intentar pasar desapercibidos (por cuestiones impositivas, de seguridad, etc.) él hacía todo lo contrario, por lo que su comportamiento, que exasperaba a parte de la población más pobre, también avergonzaba a sus coetáneos de clase alta; esto provoca que, paradójicamente, su figura sea rescatada por una parte del progresismo, que valora que mostrase la crudeza de la disparidad económica, y no la haya intentado relativizar u ocultar como frecuentemente ocurre con sus pares.[64]\\u200b[65]\\u200b  A su vez, sufrió críticas debido a su dismorfia muscular y su obsesión por la belleza.  ### Cualidades artísticas[editar]  Sobre sus cualidades artísticas, se le reprochaba que en realidad _compró su fama_.[66]\\u200b  Por el contrario, algunos referentes relacionados con la música argentina le reconocían cualidades artísticas, especialmente vocales. El cantante y músico Vicentico opinaba:  > ¿Si soy fanático de él? No hay dudas. Ojalá siga así. Te repito: es mi ídolo > y yo lo banco. Es un tipo grosso, muy grosso.[67]\\u200b  El músico y compositor Gustavo Santaolalla señaló:  > Cuando vine a Buenos Aires a pasar las fiestas, me llamó la atención ver en > las tapas de las revistas de actualidad a una persona que no conocía. Por > casualidad, haciendo zapping, lo vi cantar. Me pareció que lo hacía bastante > bien y tenía mucha energía.[67]\\u200b  Por su parte la cantante Estela Raval (1929-2012) aseveró:  > Ricardo Fort me cae muy simpático, muy agradable. Está buscando de adentro > un montón de cosas que quería hacer, en principio cantar, cosa que hace muy > bien.[67]\\u200b  La misma artista también hacía foco en otro punto positivo que se le reconocía, su importancia como creador de fuentes de trabajo para una buena cantidad de artistas:  > Es muy generoso, se acuerda de todos los artistas y le da trabajo a mucha > gente. Yo no lo critico. Te puede gustar o no, pero para mí Ricardo no es > criticable. Es un hombre que le está dando posibilidades a mucha gente, > incluso olvidada.[67]\\u200b  ## Referencias[editar]    1. ↑ «En Miami. Las fotos de las espectaculares vacaciones de Marta y Felipe, los hijos de Ricardo Fort». 7 de septiembre de 2021. Consultado el 9 de enero de 2022.   2. ↑ «Ricardo Fort aclaró cómo será su \"casamiento\" con Claudia Ciardone». 1 de diciembre de 2011. Consultado el 9 de enero de 2022.   3. ↑ «Los 10 hombres más influyentes de la Argentina en el 2015». _infobae_. 14 de diciembre de 2015. Consultado el 25 de agosto de 2021.   4. ↑ Marta Fort rompió el silencio: \"He perdido lo más hermoso de mi vida\". La Nación, 13 de mayo de 2014   5. ↑ «Soy famoso... ¡quiero diseñar ropa!», artículo en el sitio web Ciudad.com.ar, del 25 de marzo de 2010.   6. ↑ «Con una extravagante fiesta, Ricardo Fort lanzó su perfume», artículo en el diario _La Nación_ , del 20 de mayo de 2010.   7. ↑ «Ricardo Fort, historia de vida», artículo en el sitio web de la Boutique del Libro.   8. ↑ Montenegro, Néstor (2010). _Ricardo Fort, historia de vida_. Buenos Aires: Corregidor, 158 páginas. ISBN 9789500518796.   9. ↑ «Ricardo Fort empresario: el creador de la barrita de cereal», artículo en el sitio web _26 Noticias_ , del 26 de noviembre de 2013.   10. ↑ «Ricardo Fort: el hombre que trajo la barrita de cereal al país», artículo en el sitio web _Minuto Uno_, del 25 de noviembre de 2013.   11. ↑ _**a**_ _**b**_ «Protesta contra la ostentación de Ricardo Fort», artículo en el sitio web _Exitoína_ , del 26 de marzo de 2010.   12. ↑ Las 50 celebridades de Argentina, artículo en la revista _Forbes_.   13. ↑ «¿Quiénes son los argentinos más ricos e influyentes según “Forbes”?» Archivado el 21 de noviembre de 2013 en Wayback Machine., revista _Pronto_ del 14 de agosto de 2013.   14. ↑ «Buscando otro Tito», artículo en la sección Espectáculos del diario _Clarín_ del 3 de julio de 2010.   15. ↑ «Desp',\n",
       " 'ués de la polémica, Ricardo Fort volvió con Tinelli», artículo en el sitio web _Minuto Uno_ del 14 de septiembre de 2012.   16. ↑ Samá, Gastón (2013). «¿Quién fue Ricardo Fort?» Archivado el 29 de noviembre de 2013 en Wayback Machine., artículo en el diario _Crónica_ (Buenos Aires) del 26 de noviembre de 2013.   17. ↑ «Fort volvió a la pista, pero de visita», artículo en el sitio web _Minuto Uno_ del 26 de julio de 2011.   18. ↑ «Fort se bajó de “Bailando por un sueño”» Archivado el 2 de diciembre de 2013 en Wayback Machine., artículo en el diario _La Razón_ (Buenos Aires) del 8 de febrero de 2011.   19. ↑ «“Fortuna”: se estrenó la obra de Ricky», artículo en el diario _Clarín_ del 24 de enero de 2010.   20. ↑ Después del escándalo, Ricardo Fort estrenó Fortuna 2. 6 de enero de 2011.   21. ↑ Riano, Cecilia (2011). «Ricardo Fort llegó a Villa Carlos Paz y lo muestra todo en un bizarro reality show», artículo en el sitio web Ciudad.com.ar del 26 de diciembre de 2011.   22. ↑ «Fort con caviar» Archivado el 2 de diciembre de 2013 en Wayback Machine., artículo en el diario _La Razón_.   23. ↑ «Las 100 empresas más admiradas de la Argentina» Archivado el 2 de diciembre de 2013 en Wayback Machine., artículo en el diario _Clarín_, del 3 de octubre de 2004.   24. ↑ «Marta Fort rompió el silencio: “He perdido lo hermoso de mi vida”», artículo en el diario _La Nación_, del 25 de noviembre de 2013.   25. ↑ «Un deseo de más de dos décadas y un camino solitario: el día que Ricardo Fort se convirtió en papá de Martita y Felipe». _infobae_. Consultado el 28 de noviembre de 2021.   26. ↑ «Hombres y mujeres, los amores de Ricardo Fort», artículo en _Diario Popular_ , del 25 de noviembre de 2013.   27. ↑ «Ricardo Fort presentó a sus hijos mellizos concebidos por alquiler de vientre». _La Capital_. Consultado el 23 de noviembre de 2021.   28. ↑ «Diez años sin Ricardo Fort: a qué se dedica Rodrigo Díaz, la última pareja del millonario mediático». _Lmneuquen.com_. 25 de noviembre de 2023. Consultado el 29 de marzo de 2024.   29. ↑ «En Miami. Las fotos de las espectaculares vacaciones de Marta y Felipe, los hijos de Ricardo Fort». _La Nación_. 7 de septiembre de 2021. ISSN 0325-0946. Consultado el 9 de enero de 2022.   30. ↑ «Ricardo Fort aclaró cómo será su \"casamiento\" con Claudia Ciardone». _Ciudad Magazine_. 1 de diciembre de 2011. Consultado el 9 de enero de 2022.   31. ↑ Habló la cuñada de Fort: \"La causa de la muerte fue una hemorragia digestiva\" Clarín, 25 de noviembre de 2013   32. ↑ «Despiden a Ricardo Fort con misa y velorio para nueve íntimos» Archivado el 14 de noviembre de 2013 en Wayback Machine., artículo en el diario _Los Andes_ (Mendoza) del 26 de noviembre de 2013.   33. ↑ «La muerte de Ricardo Fort: Rodrigo Díaz, quebrado en Miami». _Uno Santa Fe_. Consultado el 9 de enero de 2022.   34. ↑ «En una ceremonia íntima, despiden los restos del empresario Ricardo Fort», artículo en el diario _La Nación_ del 26 de noviembre de 2013.   35. ↑ «La voluntad de Fort: “Quiero que me suban al Obelisco y tiren mis cenizas”», artículo en la sección Espectáculos del diario _Popular_ del 26 de noviembre de 2013.   36. ↑ «Cuánta plata tenía Ricardo Fort y, tras su muerte, quiénes heredarán su fortuna», artículo en el diario _Uno_ del 25 de noviembre de 2013.   37. ↑ Las operaciones y los medicamentos lo llevaron a su final. Diario Clarín, de Buenos Aires. 25 de noviembre de 2013.   38. ↑ «Fama, plata, y vida al límite». _Diario _Popular__ (Buenos Aires). 26 de noviembre de 2013.   39. ↑ «A los 45 años murió Ricardo Fort. Guerra por la herencia». __Crónica__ (Buenos Aires). 26 de noviembre de 2013.   40. ↑ «Telón para una vida apurada». _Clarín_ (Buenos Aires). 26 de noviembre de 2013.   41. ↑ «Ricardo Fort. Un hombre excéntrico y mediático que murió como vivió». _La Nación_ (Buenos Aires). 26 de noviembre de 2013.   42. ↑ «Telón para la aventura de Fort». _La Razón_ (Buenos Aires). 26 de noviembre de 2013.   43. ↑ «Murió Ricardo Fort, el millonario que eligió ser mediático». _BAE Negocios_ (Buenos Aires). 26 de noviembre de 2013.   44. ↑ «Se gastó la vida». _Muy_ (Buenos Aires). 26 de noviembre de 2013.   45. ↑ «Ascenso y caída de un homo mediático». _Página/12_ (Buenos Aires). 26 de noviembre de 2013.   46. ↑ «La muerte de Ricardo Fort. El adiós a un hombre que vivió al límite». _Diario El Día_ (La Plata). 26 de noviembre de 2013.   47. ↑ «Fort, el personaje que se autodestruyó». _Diario La Voz del Interior_ (Córd',\n",
       " 'oba, Argentina). 26 de noviembre de 2013.   48. ↑ «El excéntrico y mediático millonario Ricardo Fort murió de un paro cardíaco.». _Diario La Capital_ (Rosario). 26 de noviembre de 2013.   49. ↑ «Ricardo Fort, murió el millonario de la televisión». _Diario Los Andes_ (Ciudad de Mendoza). 26 de noviembre de 2013.   50. ↑ «Ricardo Fort, una vida en el centro de la escena». _Diario El Tribuno_ (Ciudad de Salta). 26 de noviembre de 2013.   51. ↑ «La muerte de un extravagante. A los 45 años murió Ricardo Fort, el millonario argentino». _Diario El País_ (Montevideo). 26 de noviembre de 2013.   52. ↑ «No tenía paz. 27 cirugías [sic] lo llevaron a la muerte». _Diario La República_ (Montevideo). 26 de noviembre de 2013.   53. ↑ «Fallece el empresario argentino Ricardo Fort [sic]». _Diario _ABC Color__ (Asunción). 25 de noviembre de 2013.   54. ↑ «Murió el excéntrico y mediático Ricardo Fort [sic]». _Diario _ABC Color__ (Asunción). 25 de noviembre de 2013.   55. ↑ «Investigación: Quién mató a Ricardo Fort. El titán de la Argentina monstruosa». _Noticias_ (Buenos Aires) (1928). 29 de noviembre de 2013.   56. ↑ Tapa polémica de Noticias: «El titán de la Argentina monstruosa». Archivado el 8 de enero de 2014 en Wayback Machine. Crónica del NOA.   57. ↑ «El triste final de Ricardo Fort». _Gente_ (Buenos Aires) (2523). 26 de noviembre de 2013.   58. ↑ «Muerte, dolor y millones en juego». _Paparazzi_ (Buenos Aires) (629). 28 de noviembre de 2013. Archivado desde el original el 3 de diciembre de 2013. Consultado el 30 de noviembre de 2013.   59. ↑ «Las últimas horas de Ricardo Fort». _Pronto_ (Buenos Aires) (904). 27 de noviembre de 2013.   60. ↑ «Se cansó de sufrir». _Semanario_ (Buenos Aires) (1796). 28 de noviembre de 2013.   61. ↑ «Una vida con dolor». _El Sensacional_ (Buenos Aires) (51). 28 de noviembre de 2013.   62. ↑ «Fort: el dolor y la herencia de sus hijos». _Caras_ (Buenos Aires) (1664). 26 de noviembre de 2013.   63. ↑ «Obreros denuncian irregularidades y derroches de dinero en Felfort», artículo en el diario _Popular_ del 17 de abril de 2013.   64. ↑ Seselovsky, Alejandro (2013). «Un mal rico», artículo en el diario _Página/12_ del 27 de noviembre de 2013.   65. ↑ Seselovsky, Alejandro (2010). _Trash: retratos de la Argentina mediática_. Buenos Aires: Norma, 214 páginas.   66. ↑ «Murió el millonario que compró su fama». _Diario Uno_ (Mendoza). 26 de noviembre de 2013.   67. ↑ _**a**_ _**b**_ _**c**_ _**d**_ InfoBae, ed. (3 de mayo de 2010). «Fort llega a la Feria del Libro». Buenos Aires. Consultado el 27 de noviembre de 2013.  ## Enlaces externos[editar]    * Wikimedia Commons alberga una categoría multimedia sobre **Ricardo Fort**.   * Wikiquote alberga frases célebres de o sobre **Ricardo Fort**.   * Ricardo Fort en Internet Movie Database (en inglés).   * Página web oficial de Ricardo Fort  Control de autoridades|    * **Proyectos Wikimedia**   * Datos: Q7322642   * Multimedia: Ricardo Fort / Q7322642  * * *    * **Cine**   * IMDb: nm4662591     ---|---        * Datos: Q7322642   * Multimedia: Ricardo Fort / Q7322642  Obtenido de «https://es.wikipedia.org/w/index.php?title=Ricardo_Fort&oldid=159101632»  Categorías:    * Hombres   * Nacidos en 1968   * Fallecidos en 2013   * Actores de teatro de la ciudad de Buenos Aires   * Actores de televisión de la ciudad de Buenos Aires   * Cantantes de balada romántica de Argentina   * Católicos de Argentina   * Empresarios de Argentina   * Fallecidos por complicaciones quirúrgicas   * Bisexuales de Argentina   * Artistas LGBT de Argentina   * Productores de teatro de Argentina   * Productores de televisión de Argentina   * Jurados de Bailando por un sueño   * Sepultados en el Cementerio Jardín de Paz de Pilar   * Socialités de Argentina  Categoría oculta:    * Wikipedia:Páginas con enlaces mágicos de ISBN    * Esta página se editó por última vez el 29 mar 2024 a las 18:27.   * El texto está disponible bajo la Licencia Creative Commons Atribución-CompartirIgual 4.0; pueden aplicarse cláusulas adicionales. Al usar este sitio aceptas nuestros términos de uso y nuestra política de privacidad.   Wikipedia® es una marca registrada de la Fundación Wikimedia, una organización sin ánimo de lucro.    * Política de privacidad   * Acerca de Wikipedia   * Limitación de responsabilidad   * Código de conducta   * Desarrolladores   * Estadísticas   * Declaración de cookies   * Versión para móviles    *   *     * Activar o desactivar el límite de anchura del contenido  ']"
      ]
     },
     "execution_count": 57,
     "metadata": {},
     "output_type": "execute_result"
    }
   ],
   "source": [
    "get_content(query)"
   ]
  },
  {
   "cell_type": "code",
   "execution_count": null,
   "metadata": {
    "tags": []
   },
   "outputs": [],
   "source": [
    "query=\"Hablame de Ricardo Fort, como se murió?\""
   ]
  },
  {
   "cell_type": "code",
   "execution_count": null,
   "metadata": {},
   "outputs": [],
   "source": [
    "def get_search(query:str=\"\", k:int=1): # get the top-k resources with DuckDuckGo\n",
    "    return DDGS().text(query, max_results=k)"
   ]
  },
  {
   "cell_type": "code",
   "execution_count": null,
   "metadata": {
    "tags": []
   },
   "outputs": [],
   "source": [
    "format_string(a)"
   ]
  },
  {
   "cell_type": "code",
   "execution_count": null,
   "metadata": {
    "tags": []
   },
   "outputs": [],
   "source": [
    "get_content(res)"
   ]
  },
  {
   "cell_type": "code",
   "execution_count": null,
   "metadata": {
    "tags": []
   },
   "outputs": [],
   "source": [
    "res = get_search(a, 1)\n",
    "if not res:\n",
    "    print(\">>> No good search result was found\")\n",
    "search_results = res[0]\n",
    "href = search_results['href'] # title, snippet\n",
    "res = get_page_content(href)\n",
    "if not res:\n",
    "    print(f\">>> No content was found in {href}\")\n",
    "retrieved_text = res\n",
    "trunked_texts = chunk_texts(retrieved_text, 1500)\n",
    "trunked_texts = [trunked_text.replace('\\n', \" \") for trunked_text in trunked_texts]"
   ]
  },
  {
   "cell_type": "code",
   "execution_count": null,
   "metadata": {
    "tags": []
   },
   "outputs": [],
   "source": [
    "get_search(a)"
   ]
  },
  {
   "cell_type": "code",
   "execution_count": null,
   "metadata": {
    "tags": []
   },
   "outputs": [],
   "source": [
    "answer"
   ]
  },
  {
   "cell_type": "code",
   "execution_count": null,
   "metadata": {
    "tags": []
   },
   "outputs": [],
   "source": [
    "draft"
   ]
  },
  {
   "cell_type": "code",
   "execution_count": null,
   "metadata": {
    "tags": []
   },
   "outputs": [],
   "source": [
    "a = run_with_timeout(get_query_wrapper, 3, question, answer)"
   ]
  },
  {
   "cell_type": "code",
   "execution_count": null,
   "metadata": {
    "tags": []
   },
   "outputs": [],
   "source": [
    "a"
   ]
  },
  {
   "cell_type": "code",
   "execution_count": null,
   "metadata": {
    "tags": []
   },
   "outputs": [],
   "source": [
    "print(f\"{datetime.now()} [INFO] Obteniendo borrador...\")\n",
    "draft = get_draft(question)\n",
    "print(f\"{datetime.now()} [INFO] Borrador devuelto\")\n",
    "print(f\"##################### BORRADOR #######################\")\n",
    "print(draft)\n",
    "print(f\"#####################  FIN  #######################\")\n",
    "\n",
    "print(f\"{datetime.now()} [INFO] Procesando borrador...\")\n",
    "draft_paragraphs = split_draft(draft)\n",
    "print(f\"{datetime.now()} [INFO] El borrador se dividió en {len(draft_paragraphs)} partes\")\n",
    "answer = \"\"\n",
    "for i, p in enumerate(draft_paragraphs):\n",
    "    print(str(i)*80)\n",
    "    print(f\"{datetime.now()} [INFO] Modificando parte {i+1}/{len(draft_paragraphs)}...\")\n",
    "    answer = answer + '\\n\\n' + p\n",
    "\n",
    "    print(f\"{datetime.now()} [INFO] Generando Query correspondiente...\")\n",
    "    res = run_with_timeout(get_query_wrapper, 3, question, answer)\n",
    "    if not res:\n",
    "        print(f\"{datetime.now()} [INFO] Saltando pasos siguientes...\")\n",
    "        continue\n",
    "    else:\n",
    "        query = res\n",
    "    print(f\">>> {i}/{len(draft_paragraphs)} Query: {query.replace(newline_char, ' ')}\")\n",
    "\n",
    "    print(f\"{datetime.now()} [INFO] Obteniendo contenido web...\")\n",
    "    res = run_with_timeout(get_content_wrapper, 5, query)\n",
    "    if not res:\n",
    "        print(f\"{datetime.now()} [INFO] Saltando pasos siguientes...\")\n",
    "        continue\n",
    "    else:\n",
    "        content = res\n",
    "\n",
    "    for j, c in enumerate(content):\n",
    "        if j > 2:\n",
    "            break\n",
    "        print(f\"{datetime.now()} [INFO] Modificando respuesta basada en el contenido web...[{j}/{min(len(content),3)}]\")\n",
    "        res = run_with_timeout(get_revise_answer_wrapper, 10, question, answer, c)\n",
    "        if not res:\n",
    "            print(f\"{datetime.now()} [INFO] Saltando pasos siguientes... error en la respuesta\")\n",
    "            continue\n",
    "        else:\n",
    "            diff_html = generate_diff_html(answer, res)\n",
    "            display(HTML(diff_html))\n",
    "            answer = res\n",
    "        print(f\"{datetime.now()} [INFO] Modificación de respuesta completada[{j}/{min(len(content),3)}]\")"
   ]
  },
  {
   "cell_type": "code",
   "execution_count": null,
   "metadata": {
    "tags": []
   },
   "outputs": [],
   "source": [
    "res"
   ]
  },
  {
   "cell_type": "markdown",
   "metadata": {
    "tags": []
   },
   "source": [
    "# Gradio Demo"
   ]
  },
  {
   "cell_type": "code",
   "execution_count": null,
   "metadata": {
    "tags": []
   },
   "outputs": [],
   "source": [
    "# %%capture\n",
    "# !pip install gradio --upgrade"
   ]
  },
  {
   "cell_type": "code",
   "execution_count": null,
   "metadata": {
    "id": "BGeb6Q9FZnq8"
   },
   "outputs": [],
   "source": [
    "def predict(message, history):\n",
    "    # rat function?\n",
    "    draft, answer = rat(message)\n",
    "    return answer"
   ]
  },
  {
   "cell_type": "code",
   "execution_count": null,
   "metadata": {
    "colab": {
     "background_save": true,
     "base_uri": "https://localhost:8080/",
     "height": 1000
    },
    "id": "YnFyowIFYtzE",
    "outputId": "3d2b8b2c-b118-4a5b-bf90-3a50f4f7fb56"
   },
   "outputs": [],
   "source": [
    "# Fast ChatBot demo\n",
    "import gradio as gr\n",
    "gr.ChatInterface(predict).launch(share=True, inline=False, debug=True)"
   ]
  },
  {
   "cell_type": "code",
   "execution_count": null,
   "metadata": {},
   "outputs": [],
   "source": []
  }
 ],
 "metadata": {
  "colab": {
   "provenance": [],
   "toc_visible": true
  },
  "kernelspec": {
   "display_name": "conda_pytorch_p310",
   "language": "python",
   "name": "conda_pytorch_p310"
  },
  "language_info": {
   "codemirror_mode": {
    "name": "ipython",
    "version": 3
   },
   "file_extension": ".py",
   "mimetype": "text/x-python",
   "name": "python",
   "nbconvert_exporter": "python",
   "pygments_lexer": "ipython3",
   "version": "3.10.13"
  }
 },
 "nbformat": 4,
 "nbformat_minor": 4
}
